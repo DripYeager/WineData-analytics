{
 "cells": [
  {
   "cell_type": "markdown",
   "id": "4a78e0eb",
   "metadata": {},
   "source": [
    "# Variety Prediction Model"
   ]
  },
  {
   "cell_type": "markdown",
   "id": "5eb65529",
   "metadata": {},
   "source": [
    "All the markdowns are written in <font color=#a83969>Wine color</font>"
   ]
  },
  {
   "cell_type": "markdown",
   "id": "f26d5c5c",
   "metadata": {},
   "source": [
    "<font color=#a83969>During my online research, I discovered that the highest model accuracy achieved on this dataset was 50.48% and 52.12%. However, I was able to achieve highest accuracy of 56.27% using the random forest classifier</font>"
   ]
  },
  {
   "cell_type": "code",
   "execution_count": 1,
   "id": "ed81991f",
   "metadata": {},
   "outputs": [],
   "source": [
    "import pandas as pd\n",
    "import matplotlib.pyplot as plt\n",
    "import numpy as np\n",
    "%matplotlib inline"
   ]
  },
  {
   "cell_type": "code",
   "execution_count": 2,
   "id": "445a5476",
   "metadata": {},
   "outputs": [
    {
     "data": {
      "text/html": [
       "<div>\n",
       "<style scoped>\n",
       "    .dataframe tbody tr th:only-of-type {\n",
       "        vertical-align: middle;\n",
       "    }\n",
       "\n",
       "    .dataframe tbody tr th {\n",
       "        vertical-align: top;\n",
       "    }\n",
       "\n",
       "    .dataframe thead th {\n",
       "        text-align: right;\n",
       "    }\n",
       "</style>\n",
       "<table border=\"1\" class=\"dataframe\">\n",
       "  <thead>\n",
       "    <tr style=\"text-align: right;\">\n",
       "      <th></th>\n",
       "      <th>user_name</th>\n",
       "      <th>country</th>\n",
       "      <th>review_title</th>\n",
       "      <th>review_description</th>\n",
       "      <th>designation</th>\n",
       "      <th>points</th>\n",
       "      <th>price</th>\n",
       "      <th>province</th>\n",
       "      <th>region_1</th>\n",
       "      <th>region_2</th>\n",
       "      <th>winery</th>\n",
       "      <th>variety</th>\n",
       "    </tr>\n",
       "  </thead>\n",
       "  <tbody>\n",
       "    <tr>\n",
       "      <th>0</th>\n",
       "      <td>@kerinokeefe</td>\n",
       "      <td>Italy</td>\n",
       "      <td>Nicosia 2013 Vulkà Bianco  (Etna)</td>\n",
       "      <td>Aromas include tropical fruit, broom, brimston...</td>\n",
       "      <td>Vulkà Bianco</td>\n",
       "      <td>87</td>\n",
       "      <td>NaN</td>\n",
       "      <td>Sicily &amp; Sardinia</td>\n",
       "      <td>Etna</td>\n",
       "      <td>NaN</td>\n",
       "      <td>Nicosia</td>\n",
       "      <td>White Blend</td>\n",
       "    </tr>\n",
       "    <tr>\n",
       "      <th>1</th>\n",
       "      <td>@vossroger</td>\n",
       "      <td>Portugal</td>\n",
       "      <td>Quinta dos Avidagos 2011 Avidagos Red (Douro)</td>\n",
       "      <td>This is ripe and fruity, a wine that is smooth...</td>\n",
       "      <td>Avidagos</td>\n",
       "      <td>87</td>\n",
       "      <td>15.0</td>\n",
       "      <td>Douro</td>\n",
       "      <td>NaN</td>\n",
       "      <td>NaN</td>\n",
       "      <td>Quinta dos Avidagos</td>\n",
       "      <td>Portuguese Red</td>\n",
       "    </tr>\n",
       "    <tr>\n",
       "      <th>2</th>\n",
       "      <td>@paulgwine</td>\n",
       "      <td>US</td>\n",
       "      <td>Rainstorm 2013 Pinot Gris (Willamette Valley)</td>\n",
       "      <td>Tart and snappy, the flavors of lime flesh and...</td>\n",
       "      <td>NaN</td>\n",
       "      <td>87</td>\n",
       "      <td>14.0</td>\n",
       "      <td>Oregon</td>\n",
       "      <td>Willamette Valley</td>\n",
       "      <td>Willamette Valley</td>\n",
       "      <td>Rainstorm</td>\n",
       "      <td>Pinot Gris</td>\n",
       "    </tr>\n",
       "    <tr>\n",
       "      <th>3</th>\n",
       "      <td>NaN</td>\n",
       "      <td>US</td>\n",
       "      <td>St. Julian 2013 Reserve Late Harvest Riesling ...</td>\n",
       "      <td>Pineapple rind, lemon pith and orange blossom ...</td>\n",
       "      <td>Reserve Late Harvest</td>\n",
       "      <td>87</td>\n",
       "      <td>13.0</td>\n",
       "      <td>Michigan</td>\n",
       "      <td>Lake Michigan Shore</td>\n",
       "      <td>NaN</td>\n",
       "      <td>St. Julian</td>\n",
       "      <td>Riesling</td>\n",
       "    </tr>\n",
       "    <tr>\n",
       "      <th>4</th>\n",
       "      <td>@paulgwine</td>\n",
       "      <td>US</td>\n",
       "      <td>Sweet Cheeks 2012 Vintner's Reserve Wild Child...</td>\n",
       "      <td>Much like the regular bottling from 2012, this...</td>\n",
       "      <td>Vintner's Reserve Wild Child Block</td>\n",
       "      <td>87</td>\n",
       "      <td>65.0</td>\n",
       "      <td>Oregon</td>\n",
       "      <td>Willamette Valley</td>\n",
       "      <td>Willamette Valley</td>\n",
       "      <td>Sweet Cheeks</td>\n",
       "      <td>Pinot Noir</td>\n",
       "    </tr>\n",
       "  </tbody>\n",
       "</table>\n",
       "</div>"
      ],
      "text/plain": [
       "      user_name   country                                       review_title  \\\n",
       "0  @kerinokeefe     Italy                  Nicosia 2013 Vulkà Bianco  (Etna)   \n",
       "1    @vossroger  Portugal      Quinta dos Avidagos 2011 Avidagos Red (Douro)   \n",
       "2   @paulgwine         US      Rainstorm 2013 Pinot Gris (Willamette Valley)   \n",
       "3           NaN        US  St. Julian 2013 Reserve Late Harvest Riesling ...   \n",
       "4   @paulgwine         US  Sweet Cheeks 2012 Vintner's Reserve Wild Child...   \n",
       "\n",
       "                                  review_description  \\\n",
       "0  Aromas include tropical fruit, broom, brimston...   \n",
       "1  This is ripe and fruity, a wine that is smooth...   \n",
       "2  Tart and snappy, the flavors of lime flesh and...   \n",
       "3  Pineapple rind, lemon pith and orange blossom ...   \n",
       "4  Much like the regular bottling from 2012, this...   \n",
       "\n",
       "                          designation  points  price           province  \\\n",
       "0                        Vulkà Bianco      87    NaN  Sicily & Sardinia   \n",
       "1                            Avidagos      87   15.0              Douro   \n",
       "2                                 NaN      87   14.0             Oregon   \n",
       "3                Reserve Late Harvest      87   13.0           Michigan   \n",
       "4  Vintner's Reserve Wild Child Block      87   65.0             Oregon   \n",
       "\n",
       "              region_1           region_2               winery         variety  \n",
       "0                 Etna                NaN              Nicosia     White Blend  \n",
       "1                  NaN                NaN  Quinta dos Avidagos  Portuguese Red  \n",
       "2    Willamette Valley  Willamette Valley            Rainstorm      Pinot Gris  \n",
       "3  Lake Michigan Shore                NaN           St. Julian        Riesling  \n",
       "4    Willamette Valley  Willamette Valley         Sweet Cheeks      Pinot Noir  "
      ]
     },
     "execution_count": 2,
     "metadata": {},
     "output_type": "execute_result"
    }
   ],
   "source": [
    "df=pd.read_csv(\"E:\\\\Assignment_Wine_data\\\\OSX_DS_assignment.csv\")\n",
    "df.head()"
   ]
  },
  {
   "cell_type": "code",
   "execution_count": 3,
   "id": "75cc592e",
   "metadata": {},
   "outputs": [
    {
     "data": {
      "text/plain": [
       "(103322, 12)"
      ]
     },
     "execution_count": 3,
     "metadata": {},
     "output_type": "execute_result"
    }
   ],
   "source": [
    "df.shape"
   ]
  },
  {
   "cell_type": "code",
   "execution_count": 4,
   "id": "7e3f2a04",
   "metadata": {
    "scrolled": true
   },
   "outputs": [
    {
     "data": {
      "text/plain": [
       "variety\n",
       "Bordeaux-style Red Blend       6915\n",
       "Bordeaux-style White Blend     1066\n",
       "Cabernet Franc                 1353\n",
       "Cabernet Sauvignon             9472\n",
       "Champagne Blend                1396\n",
       "Chardonnay                    11753\n",
       "Gamay                          1025\n",
       "Gewürztraminer                 1012\n",
       "Grüner Veltliner               1345\n",
       "Malbec                         2652\n",
       "Merlot                         3102\n",
       "Nebbiolo                       2804\n",
       "Pinot Grigio                   1052\n",
       "Pinot Gris                     1455\n",
       "Pinot Noir                    13272\n",
       "Portuguese Red                 2466\n",
       "Portuguese White               1159\n",
       "Red Blend                      8946\n",
       "Rhône-style Red Blend          1471\n",
       "Riesling                       5189\n",
       "Rosé                           3564\n",
       "Sangiovese                     2707\n",
       "Sauvignon Blanc                4967\n",
       "Sparkling Blend                2153\n",
       "Syrah                          4142\n",
       "Tempranillo                    1810\n",
       "White Blend                    2360\n",
       "Zinfandel                      2714\n",
       "Name: variety, dtype: int64"
      ]
     },
     "execution_count": 4,
     "metadata": {},
     "output_type": "execute_result"
    }
   ],
   "source": [
    "df.groupby('variety')['variety'].agg('count')"
   ]
  },
  {
   "cell_type": "markdown",
   "id": "7552f748",
   "metadata": {},
   "source": [
    "<font color=#a83969>First i removed rows user_name, review title, review description, points because they do not concern the model.</font>"
   ]
  },
  {
   "cell_type": "code",
   "execution_count": 5,
   "id": "222f6085",
   "metadata": {},
   "outputs": [
    {
     "data": {
      "text/html": [
       "<div>\n",
       "<style scoped>\n",
       "    .dataframe tbody tr th:only-of-type {\n",
       "        vertical-align: middle;\n",
       "    }\n",
       "\n",
       "    .dataframe tbody tr th {\n",
       "        vertical-align: top;\n",
       "    }\n",
       "\n",
       "    .dataframe thead th {\n",
       "        text-align: right;\n",
       "    }\n",
       "</style>\n",
       "<table border=\"1\" class=\"dataframe\">\n",
       "  <thead>\n",
       "    <tr style=\"text-align: right;\">\n",
       "      <th></th>\n",
       "      <th>country</th>\n",
       "      <th>designation</th>\n",
       "      <th>price</th>\n",
       "      <th>province</th>\n",
       "      <th>region_1</th>\n",
       "      <th>region_2</th>\n",
       "      <th>winery</th>\n",
       "      <th>variety</th>\n",
       "    </tr>\n",
       "  </thead>\n",
       "  <tbody>\n",
       "    <tr>\n",
       "      <th>0</th>\n",
       "      <td>Italy</td>\n",
       "      <td>Vulkà Bianco</td>\n",
       "      <td>NaN</td>\n",
       "      <td>Sicily &amp; Sardinia</td>\n",
       "      <td>Etna</td>\n",
       "      <td>NaN</td>\n",
       "      <td>Nicosia</td>\n",
       "      <td>White Blend</td>\n",
       "    </tr>\n",
       "    <tr>\n",
       "      <th>1</th>\n",
       "      <td>Portugal</td>\n",
       "      <td>Avidagos</td>\n",
       "      <td>15.0</td>\n",
       "      <td>Douro</td>\n",
       "      <td>NaN</td>\n",
       "      <td>NaN</td>\n",
       "      <td>Quinta dos Avidagos</td>\n",
       "      <td>Portuguese Red</td>\n",
       "    </tr>\n",
       "    <tr>\n",
       "      <th>2</th>\n",
       "      <td>US</td>\n",
       "      <td>NaN</td>\n",
       "      <td>14.0</td>\n",
       "      <td>Oregon</td>\n",
       "      <td>Willamette Valley</td>\n",
       "      <td>Willamette Valley</td>\n",
       "      <td>Rainstorm</td>\n",
       "      <td>Pinot Gris</td>\n",
       "    </tr>\n",
       "    <tr>\n",
       "      <th>3</th>\n",
       "      <td>US</td>\n",
       "      <td>Reserve Late Harvest</td>\n",
       "      <td>13.0</td>\n",
       "      <td>Michigan</td>\n",
       "      <td>Lake Michigan Shore</td>\n",
       "      <td>NaN</td>\n",
       "      <td>St. Julian</td>\n",
       "      <td>Riesling</td>\n",
       "    </tr>\n",
       "    <tr>\n",
       "      <th>4</th>\n",
       "      <td>US</td>\n",
       "      <td>Vintner's Reserve Wild Child Block</td>\n",
       "      <td>65.0</td>\n",
       "      <td>Oregon</td>\n",
       "      <td>Willamette Valley</td>\n",
       "      <td>Willamette Valley</td>\n",
       "      <td>Sweet Cheeks</td>\n",
       "      <td>Pinot Noir</td>\n",
       "    </tr>\n",
       "  </tbody>\n",
       "</table>\n",
       "</div>"
      ],
      "text/plain": [
       "    country                         designation  price           province  \\\n",
       "0     Italy                        Vulkà Bianco    NaN  Sicily & Sardinia   \n",
       "1  Portugal                            Avidagos   15.0              Douro   \n",
       "2        US                                 NaN   14.0             Oregon   \n",
       "3        US                Reserve Late Harvest   13.0           Michigan   \n",
       "4        US  Vintner's Reserve Wild Child Block   65.0             Oregon   \n",
       "\n",
       "              region_1           region_2               winery         variety  \n",
       "0                 Etna                NaN              Nicosia     White Blend  \n",
       "1                  NaN                NaN  Quinta dos Avidagos  Portuguese Red  \n",
       "2    Willamette Valley  Willamette Valley            Rainstorm      Pinot Gris  \n",
       "3  Lake Michigan Shore                NaN           St. Julian        Riesling  \n",
       "4    Willamette Valley  Willamette Valley         Sweet Cheeks      Pinot Noir  "
      ]
     },
     "execution_count": 5,
     "metadata": {},
     "output_type": "execute_result"
    }
   ],
   "source": [
    "df=df.drop(['user_name','review_title','review_description','points'],axis=1)\n",
    "df.head()"
   ]
  },
  {
   "cell_type": "markdown",
   "id": "9610ad12",
   "metadata": {},
   "source": [
    "<font color=#a83969>Then I attempted to locate the missing values and filled the price column by taking the average of the prices for the corresponding wine variety.</font>"
   ]
  },
  {
   "cell_type": "code",
   "execution_count": 6,
   "id": "259b83c1",
   "metadata": {},
   "outputs": [],
   "source": [
    "df['price'] = df.groupby('variety')['price'].transform(lambda x: x.fillna(x.mean()).apply(np.floor))"
   ]
  },
  {
   "cell_type": "code",
   "execution_count": 7,
   "id": "e8925661",
   "metadata": {},
   "outputs": [
    {
     "data": {
      "text/plain": [
       "country           39\n",
       "designation    29636\n",
       "price              0\n",
       "province          39\n",
       "region_1       16068\n",
       "region_2       58459\n",
       "winery             0\n",
       "variety            0\n",
       "dtype: int64"
      ]
     },
     "execution_count": 7,
     "metadata": {},
     "output_type": "execute_result"
    }
   ],
   "source": [
    "df.isnull().sum()"
   ]
  },
  {
   "cell_type": "markdown",
   "id": "0a7866fb",
   "metadata": {},
   "source": [
    "<font color=#a83969>From a total of 103322 rows, approximately half of them (58459) did not have any value for region2. As these values do not contribute to the accuracy of the model, I decided to remove them.</font>"
   ]
  },
  {
   "cell_type": "code",
   "execution_count": 8,
   "id": "b9fcf3a4",
   "metadata": {},
   "outputs": [
    {
     "data": {
      "text/html": [
       "<div>\n",
       "<style scoped>\n",
       "    .dataframe tbody tr th:only-of-type {\n",
       "        vertical-align: middle;\n",
       "    }\n",
       "\n",
       "    .dataframe tbody tr th {\n",
       "        vertical-align: top;\n",
       "    }\n",
       "\n",
       "    .dataframe thead th {\n",
       "        text-align: right;\n",
       "    }\n",
       "</style>\n",
       "<table border=\"1\" class=\"dataframe\">\n",
       "  <thead>\n",
       "    <tr style=\"text-align: right;\">\n",
       "      <th></th>\n",
       "      <th>country</th>\n",
       "      <th>designation</th>\n",
       "      <th>price</th>\n",
       "      <th>province</th>\n",
       "      <th>region_1</th>\n",
       "      <th>winery</th>\n",
       "      <th>variety</th>\n",
       "    </tr>\n",
       "  </thead>\n",
       "  <tbody>\n",
       "    <tr>\n",
       "      <th>0</th>\n",
       "      <td>Italy</td>\n",
       "      <td>Vulkà Bianco</td>\n",
       "      <td>23.0</td>\n",
       "      <td>Sicily &amp; Sardinia</td>\n",
       "      <td>Etna</td>\n",
       "      <td>Nicosia</td>\n",
       "      <td>White Blend</td>\n",
       "    </tr>\n",
       "    <tr>\n",
       "      <th>1</th>\n",
       "      <td>Portugal</td>\n",
       "      <td>Avidagos</td>\n",
       "      <td>15.0</td>\n",
       "      <td>Douro</td>\n",
       "      <td>NaN</td>\n",
       "      <td>Quinta dos Avidagos</td>\n",
       "      <td>Portuguese Red</td>\n",
       "    </tr>\n",
       "    <tr>\n",
       "      <th>2</th>\n",
       "      <td>US</td>\n",
       "      <td>NaN</td>\n",
       "      <td>14.0</td>\n",
       "      <td>Oregon</td>\n",
       "      <td>Willamette Valley</td>\n",
       "      <td>Rainstorm</td>\n",
       "      <td>Pinot Gris</td>\n",
       "    </tr>\n",
       "    <tr>\n",
       "      <th>3</th>\n",
       "      <td>US</td>\n",
       "      <td>Reserve Late Harvest</td>\n",
       "      <td>13.0</td>\n",
       "      <td>Michigan</td>\n",
       "      <td>Lake Michigan Shore</td>\n",
       "      <td>St. Julian</td>\n",
       "      <td>Riesling</td>\n",
       "    </tr>\n",
       "    <tr>\n",
       "      <th>4</th>\n",
       "      <td>US</td>\n",
       "      <td>Vintner's Reserve Wild Child Block</td>\n",
       "      <td>65.0</td>\n",
       "      <td>Oregon</td>\n",
       "      <td>Willamette Valley</td>\n",
       "      <td>Sweet Cheeks</td>\n",
       "      <td>Pinot Noir</td>\n",
       "    </tr>\n",
       "  </tbody>\n",
       "</table>\n",
       "</div>"
      ],
      "text/plain": [
       "    country                         designation  price           province  \\\n",
       "0     Italy                        Vulkà Bianco   23.0  Sicily & Sardinia   \n",
       "1  Portugal                            Avidagos   15.0              Douro   \n",
       "2        US                                 NaN   14.0             Oregon   \n",
       "3        US                Reserve Late Harvest   13.0           Michigan   \n",
       "4        US  Vintner's Reserve Wild Child Block   65.0             Oregon   \n",
       "\n",
       "              region_1               winery         variety  \n",
       "0                 Etna              Nicosia     White Blend  \n",
       "1                  NaN  Quinta dos Avidagos  Portuguese Red  \n",
       "2    Willamette Valley            Rainstorm      Pinot Gris  \n",
       "3  Lake Michigan Shore           St. Julian        Riesling  \n",
       "4    Willamette Valley         Sweet Cheeks      Pinot Noir  "
      ]
     },
     "execution_count": 8,
     "metadata": {},
     "output_type": "execute_result"
    }
   ],
   "source": [
    "df=df.drop(['region_2'],axis=1)\n",
    "df.head()"
   ]
  },
  {
   "cell_type": "code",
   "execution_count": 9,
   "id": "3e40c58d",
   "metadata": {},
   "outputs": [
    {
     "data": {
      "text/plain": [
       "country           39\n",
       "designation    29636\n",
       "price              0\n",
       "province          39\n",
       "region_1       16068\n",
       "winery             0\n",
       "variety            0\n",
       "dtype: int64"
      ]
     },
     "execution_count": 9,
     "metadata": {},
     "output_type": "execute_result"
    }
   ],
   "source": [
    "df.isnull().sum()"
   ]
  },
  {
   "cell_type": "markdown",
   "id": "f337c343",
   "metadata": {},
   "source": [
    "<font color=#a83969>Similarly, there were 30309 unique values for the \"designation\" feature, out of which 29636 were empty, making the combined count of empty values and unique values more than half of the dataset (59945). Hence, this feature was also dropped.</font>"
   ]
  },
  {
   "cell_type": "code",
   "execution_count": 10,
   "id": "789b5a6a",
   "metadata": {},
   "outputs": [
    {
     "data": {
      "text/html": [
       "<div>\n",
       "<style scoped>\n",
       "    .dataframe tbody tr th:only-of-type {\n",
       "        vertical-align: middle;\n",
       "    }\n",
       "\n",
       "    .dataframe tbody tr th {\n",
       "        vertical-align: top;\n",
       "    }\n",
       "\n",
       "    .dataframe thead th {\n",
       "        text-align: right;\n",
       "    }\n",
       "</style>\n",
       "<table border=\"1\" class=\"dataframe\">\n",
       "  <thead>\n",
       "    <tr style=\"text-align: right;\">\n",
       "      <th></th>\n",
       "      <th>country</th>\n",
       "      <th>price</th>\n",
       "      <th>province</th>\n",
       "      <th>region_1</th>\n",
       "      <th>winery</th>\n",
       "      <th>variety</th>\n",
       "    </tr>\n",
       "  </thead>\n",
       "  <tbody>\n",
       "    <tr>\n",
       "      <th>0</th>\n",
       "      <td>Italy</td>\n",
       "      <td>23.0</td>\n",
       "      <td>Sicily &amp; Sardinia</td>\n",
       "      <td>Etna</td>\n",
       "      <td>Nicosia</td>\n",
       "      <td>White Blend</td>\n",
       "    </tr>\n",
       "    <tr>\n",
       "      <th>1</th>\n",
       "      <td>Portugal</td>\n",
       "      <td>15.0</td>\n",
       "      <td>Douro</td>\n",
       "      <td>NaN</td>\n",
       "      <td>Quinta dos Avidagos</td>\n",
       "      <td>Portuguese Red</td>\n",
       "    </tr>\n",
       "    <tr>\n",
       "      <th>2</th>\n",
       "      <td>US</td>\n",
       "      <td>14.0</td>\n",
       "      <td>Oregon</td>\n",
       "      <td>Willamette Valley</td>\n",
       "      <td>Rainstorm</td>\n",
       "      <td>Pinot Gris</td>\n",
       "    </tr>\n",
       "    <tr>\n",
       "      <th>3</th>\n",
       "      <td>US</td>\n",
       "      <td>13.0</td>\n",
       "      <td>Michigan</td>\n",
       "      <td>Lake Michigan Shore</td>\n",
       "      <td>St. Julian</td>\n",
       "      <td>Riesling</td>\n",
       "    </tr>\n",
       "    <tr>\n",
       "      <th>4</th>\n",
       "      <td>US</td>\n",
       "      <td>65.0</td>\n",
       "      <td>Oregon</td>\n",
       "      <td>Willamette Valley</td>\n",
       "      <td>Sweet Cheeks</td>\n",
       "      <td>Pinot Noir</td>\n",
       "    </tr>\n",
       "  </tbody>\n",
       "</table>\n",
       "</div>"
      ],
      "text/plain": [
       "    country  price           province             region_1  \\\n",
       "0     Italy   23.0  Sicily & Sardinia                 Etna   \n",
       "1  Portugal   15.0              Douro                  NaN   \n",
       "2        US   14.0             Oregon    Willamette Valley   \n",
       "3        US   13.0           Michigan  Lake Michigan Shore   \n",
       "4        US   65.0             Oregon    Willamette Valley   \n",
       "\n",
       "                winery         variety  \n",
       "0              Nicosia     White Blend  \n",
       "1  Quinta dos Avidagos  Portuguese Red  \n",
       "2            Rainstorm      Pinot Gris  \n",
       "3           St. Julian        Riesling  \n",
       "4         Sweet Cheeks      Pinot Noir  "
      ]
     },
     "execution_count": 10,
     "metadata": {},
     "output_type": "execute_result"
    }
   ],
   "source": [
    "df=df.drop(['designation'],axis=1)\n",
    "df.head()"
   ]
  },
  {
   "cell_type": "code",
   "execution_count": 11,
   "id": "e1018ac8",
   "metadata": {},
   "outputs": [
    {
     "data": {
      "text/plain": [
       "country        39\n",
       "price           0\n",
       "province       39\n",
       "region_1    16068\n",
       "winery          0\n",
       "variety         0\n",
       "dtype: int64"
      ]
     },
     "execution_count": 11,
     "metadata": {},
     "output_type": "execute_result"
    }
   ],
   "source": [
    "df.isnull().sum()"
   ]
  },
  {
   "cell_type": "code",
   "execution_count": 12,
   "id": "c112cda6",
   "metadata": {},
   "outputs": [
    {
     "data": {
      "text/plain": [
       "108"
      ]
     },
     "execution_count": 12,
     "metadata": {},
     "output_type": "execute_result"
    }
   ],
   "source": [
    "result=df[df['variety']=='White Blend'].groupby('region_1').agg({'region_1':'count'})\n",
    "\n",
    "most=result.max()[0]\n",
    "most"
   ]
  },
  {
   "cell_type": "code",
   "execution_count": 13,
   "id": "45e088aa",
   "metadata": {},
   "outputs": [
    {
     "data": {
      "text/html": [
       "<div>\n",
       "<style scoped>\n",
       "    .dataframe tbody tr th:only-of-type {\n",
       "        vertical-align: middle;\n",
       "    }\n",
       "\n",
       "    .dataframe tbody tr th {\n",
       "        vertical-align: top;\n",
       "    }\n",
       "\n",
       "    .dataframe thead th {\n",
       "        text-align: right;\n",
       "    }\n",
       "</style>\n",
       "<table border=\"1\" class=\"dataframe\">\n",
       "  <thead>\n",
       "    <tr style=\"text-align: right;\">\n",
       "      <th></th>\n",
       "      <th>region_1</th>\n",
       "    </tr>\n",
       "    <tr>\n",
       "      <th>region_1</th>\n",
       "      <th></th>\n",
       "    </tr>\n",
       "  </thead>\n",
       "  <tbody>\n",
       "    <tr>\n",
       "      <th>Adelaide</th>\n",
       "      <td>2</td>\n",
       "    </tr>\n",
       "    <tr>\n",
       "      <th>Adelaide Hills</th>\n",
       "      <td>41</td>\n",
       "    </tr>\n",
       "    <tr>\n",
       "      <th>Adelaide Plains</th>\n",
       "      <td>1</td>\n",
       "    </tr>\n",
       "    <tr>\n",
       "      <th>Agrelo</th>\n",
       "      <td>2</td>\n",
       "    </tr>\n",
       "    <tr>\n",
       "      <th>Alella</th>\n",
       "      <td>1</td>\n",
       "    </tr>\n",
       "    <tr>\n",
       "      <th>...</th>\n",
       "      <td>...</td>\n",
       "    </tr>\n",
       "    <tr>\n",
       "      <th>Yolo County</th>\n",
       "      <td>1</td>\n",
       "    </tr>\n",
       "    <tr>\n",
       "      <th>York Mountain</th>\n",
       "      <td>1</td>\n",
       "    </tr>\n",
       "    <tr>\n",
       "      <th>Yorkville Highlands</th>\n",
       "      <td>4</td>\n",
       "    </tr>\n",
       "    <tr>\n",
       "      <th>Yountville</th>\n",
       "      <td>19</td>\n",
       "    </tr>\n",
       "    <tr>\n",
       "      <th>Zonda Valley</th>\n",
       "      <td>1</td>\n",
       "    </tr>\n",
       "  </tbody>\n",
       "</table>\n",
       "<p>378 rows × 1 columns</p>\n",
       "</div>"
      ],
      "text/plain": [
       "                     region_1\n",
       "region_1                     \n",
       "Adelaide                    2\n",
       "Adelaide Hills             41\n",
       "Adelaide Plains             1\n",
       "Agrelo                      2\n",
       "Alella                      1\n",
       "...                       ...\n",
       "Yolo County                 1\n",
       "York Mountain               1\n",
       "Yorkville Highlands         4\n",
       "Yountville                 19\n",
       "Zonda Valley                1\n",
       "\n",
       "[378 rows x 1 columns]"
      ]
     },
     "execution_count": 13,
     "metadata": {},
     "output_type": "execute_result"
    }
   ],
   "source": [
    "result=df[df['variety']=='Chardonnay'].groupby('region_1').agg({'region_1':'count'})\n",
    "result"
   ]
  },
  {
   "cell_type": "markdown",
   "id": "23444e25",
   "metadata": {},
   "source": [
    "<font color=#a83969>There are numerous categories of regions for a single wine variety, such as 378 for Chardonnay out of a total of 11753, which is an average of 29 regions per variety. This can negatively impact the model's accuracy, so I am eliminating this factor as well.</font>"
   ]
  },
  {
   "cell_type": "code",
   "execution_count": 14,
   "id": "b1d13c49",
   "metadata": {},
   "outputs": [
    {
     "data": {
      "text/html": [
       "<div>\n",
       "<style scoped>\n",
       "    .dataframe tbody tr th:only-of-type {\n",
       "        vertical-align: middle;\n",
       "    }\n",
       "\n",
       "    .dataframe tbody tr th {\n",
       "        vertical-align: top;\n",
       "    }\n",
       "\n",
       "    .dataframe thead th {\n",
       "        text-align: right;\n",
       "    }\n",
       "</style>\n",
       "<table border=\"1\" class=\"dataframe\">\n",
       "  <thead>\n",
       "    <tr style=\"text-align: right;\">\n",
       "      <th></th>\n",
       "      <th>country</th>\n",
       "      <th>price</th>\n",
       "      <th>province</th>\n",
       "      <th>winery</th>\n",
       "      <th>variety</th>\n",
       "    </tr>\n",
       "  </thead>\n",
       "  <tbody>\n",
       "    <tr>\n",
       "      <th>0</th>\n",
       "      <td>Italy</td>\n",
       "      <td>23.0</td>\n",
       "      <td>Sicily &amp; Sardinia</td>\n",
       "      <td>Nicosia</td>\n",
       "      <td>White Blend</td>\n",
       "    </tr>\n",
       "    <tr>\n",
       "      <th>1</th>\n",
       "      <td>Portugal</td>\n",
       "      <td>15.0</td>\n",
       "      <td>Douro</td>\n",
       "      <td>Quinta dos Avidagos</td>\n",
       "      <td>Portuguese Red</td>\n",
       "    </tr>\n",
       "    <tr>\n",
       "      <th>2</th>\n",
       "      <td>US</td>\n",
       "      <td>14.0</td>\n",
       "      <td>Oregon</td>\n",
       "      <td>Rainstorm</td>\n",
       "      <td>Pinot Gris</td>\n",
       "    </tr>\n",
       "    <tr>\n",
       "      <th>3</th>\n",
       "      <td>US</td>\n",
       "      <td>13.0</td>\n",
       "      <td>Michigan</td>\n",
       "      <td>St. Julian</td>\n",
       "      <td>Riesling</td>\n",
       "    </tr>\n",
       "    <tr>\n",
       "      <th>4</th>\n",
       "      <td>US</td>\n",
       "      <td>65.0</td>\n",
       "      <td>Oregon</td>\n",
       "      <td>Sweet Cheeks</td>\n",
       "      <td>Pinot Noir</td>\n",
       "    </tr>\n",
       "  </tbody>\n",
       "</table>\n",
       "</div>"
      ],
      "text/plain": [
       "    country  price           province               winery         variety\n",
       "0     Italy   23.0  Sicily & Sardinia              Nicosia     White Blend\n",
       "1  Portugal   15.0              Douro  Quinta dos Avidagos  Portuguese Red\n",
       "2        US   14.0             Oregon            Rainstorm      Pinot Gris\n",
       "3        US   13.0           Michigan           St. Julian        Riesling\n",
       "4        US   65.0             Oregon         Sweet Cheeks      Pinot Noir"
      ]
     },
     "execution_count": 14,
     "metadata": {},
     "output_type": "execute_result"
    }
   ],
   "source": [
    "df=df.drop(['region_1'],axis=1)\n",
    "df.head()"
   ]
  },
  {
   "cell_type": "code",
   "execution_count": 15,
   "id": "550d6b49",
   "metadata": {},
   "outputs": [
    {
     "data": {
      "text/plain": [
       "country     39\n",
       "price        0\n",
       "province    39\n",
       "winery       0\n",
       "variety      0\n",
       "dtype: int64"
      ]
     },
     "execution_count": 15,
     "metadata": {},
     "output_type": "execute_result"
    }
   ],
   "source": [
    "df.isnull().sum()"
   ]
  },
  {
   "cell_type": "markdown",
   "id": "55894ac8",
   "metadata": {},
   "source": [
    "<font color=#a83969>After performing all the aforementioned data preprocessing steps, only 39 rows were left empty because of missing values in the 'country' and 'province' columns. These rows were dropped from the dataset as they constitute a very small percentage compared to the size of the original dataset.</font>"
   ]
  },
  {
   "cell_type": "code",
   "execution_count": 16,
   "id": "4e3138e5",
   "metadata": {},
   "outputs": [
    {
     "data": {
      "text/plain": [
       "country     0\n",
       "price       0\n",
       "province    0\n",
       "winery      0\n",
       "variety     0\n",
       "dtype: int64"
      ]
     },
     "execution_count": 16,
     "metadata": {},
     "output_type": "execute_result"
    }
   ],
   "source": [
    "df=df.dropna()\n",
    "df.isnull().sum()"
   ]
  },
  {
   "cell_type": "markdown",
   "id": "d997edae",
   "metadata": {},
   "source": [
    "<font color=#a83969>After sorting the data and dropping empty rows due to various factors, we have a total of 103283 rows in the dataset, which is only 39 rows less than the original size of 103322 rows.</font>"
   ]
  },
  {
   "cell_type": "code",
   "execution_count": 17,
   "id": "1abad842",
   "metadata": {},
   "outputs": [
    {
     "data": {
      "text/plain": [
       "(103283, 5)"
      ]
     },
     "execution_count": 17,
     "metadata": {},
     "output_type": "execute_result"
    }
   ],
   "source": [
    "df.shape"
   ]
  },
  {
   "cell_type": "code",
   "execution_count": 18,
   "id": "8dff93fc",
   "metadata": {},
   "outputs": [
    {
     "data": {
      "text/plain": [
       "array(['Italy', 'Portugal', 'US', 'France', 'Germany', 'Argentina',\n",
       "       'Chile', 'Australia', 'Austria', 'South Africa', 'New Zealand',\n",
       "       'Israel', 'Spain', 'Romania', 'Greece', 'Mexico', 'Hungary',\n",
       "       'Slovenia', 'Luxembourg', 'England', 'Uruguay', 'Lebanon',\n",
       "       'Canada', 'Brazil', 'Morocco', 'Czech Republic', 'Bulgaria',\n",
       "       'Cyprus', 'Turkey', 'Moldova', 'Croatia', 'Peru', 'Georgia',\n",
       "       'Ukraine', 'Switzerland', 'Slovakia', 'Serbia', 'India',\n",
       "       'Macedonia', 'Armenia'], dtype=object)"
      ]
     },
     "execution_count": 18,
     "metadata": {},
     "output_type": "execute_result"
    }
   ],
   "source": [
    "df['country'].unique()"
   ]
  },
  {
   "cell_type": "code",
   "execution_count": 19,
   "id": "b455901e",
   "metadata": {},
   "outputs": [
    {
     "data": {
      "text/plain": [
       "array(['Sicily & Sardinia', 'Douro', 'Oregon', 'Michigan', 'Alsace',\n",
       "       'Rheinhessen', 'California', 'Mosel', 'Other', 'Mendoza Province',\n",
       "       'Virginia', 'Beaujolais', 'Maule Valley', 'Bordeaux',\n",
       "       'Maipo Valley', 'Washington', 'Central Italy', 'Champagne',\n",
       "       'Burgundy', 'South Australia', 'Burgenland', 'New York', 'Tuscany',\n",
       "       'Leyda Valley', 'Piedmont', 'Stellenbosch',\n",
       "       'Simonsberg-Stellenbosch', 'Alentejano', 'Southwest France',\n",
       "       'Aconcagua Valley', 'Loncomilla Valley', 'Marlborough',\n",
       "       'Colchagua Valley', 'Casablanca Valley', 'Southern Italy',\n",
       "       'Veneto', 'Northeastern Italy', 'Judean Hills', 'Alentejo',\n",
       "       'Coastal Region', 'Rhône Valley', 'Western Cape', 'Galilee',\n",
       "       'Beira Atlantico', 'Northern Spain', 'Kremstal', 'Recas',\n",
       "       'Santorini', \"Hawke's Bay\", 'Curicó Valley', 'Limarí Valley',\n",
       "       'Colchagua Costa', 'Languedoc-Roussillon', 'Provence', 'Catalonia',\n",
       "       'Rapel Valley', 'Rheingau', 'Naoussa', 'Valle de Guadalupe',\n",
       "       'Central Valley', 'Lontué Valley', 'Weinviertel', 'Wagram',\n",
       "       'Lombardy', 'Kamptal', 'Südsteiermark', 'Niederösterreich',\n",
       "       'Vinho Verde', 'Idaho', 'Tejo', 'Western Australia',\n",
       "       'Martinborough', 'Central Otago', 'Lisboa', 'France Other',\n",
       "       'Península de Setúbal', 'Texas', 'Australia Other', 'Tasmania',\n",
       "       'Victoria', 'Central Spain', 'Tokaji', 'Nahe', 'Dealu Mare',\n",
       "       'Loire Valley', 'Galicia', 'Chile', 'Halkidiki', 'Pfalz',\n",
       "       'Robertson', 'Awatere Valley', 'Wiener Gemischter Satz', 'Wachau',\n",
       "       'Pennsylvania', 'Dão', 'Wagram-Donauland', 'Rio Claro', 'Villány',\n",
       "       'Cachapoal Valley', 'Levante', 'Jidvei', 'America', 'Traisental',\n",
       "       'Negev Hills', 'Duriense', 'New Jersey', 'Spanish Islands',\n",
       "       'Österreichischer Sekt', 'Epanomi', 'Aconcagua Costa', 'Slovenia',\n",
       "       'Terras do Dão', 'Beira Interior', 'Bío Bío Valley', 'Romania',\n",
       "       'Portuguese Table Wine', 'Minho', 'Nevada', 'Peumo', 'San Antonio',\n",
       "       'Carnuntum', 'Estremadura', 'Canterbury', 'Drama', 'Ella Valley',\n",
       "       'Südoststeiermark', 'Moselle Luxembourgeoise', 'Walker Bay',\n",
       "       'Baden', 'Pangeon', 'Wairau Valley', 'England', 'Canelones',\n",
       "       'Bairrada', 'Marchigue', 'Paarl', 'Spain Other', 'Durbanville',\n",
       "       'Chalkidiki', 'Lebanon', 'Setubal', 'Elqui Valley',\n",
       "       'Mosel-Saar-Ruwer', 'Colorado', 'British Columbia', 'Puente Alto',\n",
       "       'Kumeu', 'Trás-os-Montes', 'Shomron', 'Rapsani', 'Vienna',\n",
       "       'Nelson', 'Waipara Valley', 'Andalucia', 'Tokaj', 'Swartland',\n",
       "       'Ontario', 'Leithaberg', 'Thermenregion', 'Pinto Bandeira',\n",
       "       'Peloponnese', 'Primorska', 'Zenata', 'Moravia', 'Massachusetts',\n",
       "       'New Mexico', 'Ohio', 'Arizona', 'San Vicente', 'Franschhoek',\n",
       "       'Weinland Österreich', 'South Island', 'Atlantida',\n",
       "       'Thracian Valley', 'Tarnave', 'Vipavska Dolina', 'Italy Other',\n",
       "       'Bekaa Valley', 'Upper Galilee', 'Elgin', 'Itata Valley',\n",
       "       'Ribatejano', 'Table wine', 'Samson', 'Cyprus', 'Thrace',\n",
       "       'Wellington', 'Danube River Plains', 'Gisborne', 'Obidos',\n",
       "       'Wairarapa', 'Moldova', 'Santa Cruz', 'Viile Timisului',\n",
       "       'Illinois', 'Aegean', 'Simonsberg-Paarl', 'Juanico',\n",
       "       'Black Sea Coastal', 'Peljesac', 'Santa Catarina', 'Overberg',\n",
       "       'Atalanti Valley', 'Sebes', 'Macedonia', 'New South Wales',\n",
       "       'Ribatejo', 'Germany', 'Galil', 'Palmela', 'Waipara',\n",
       "       'Northwestern Italy', 'Campanha', 'Israel', 'Montevideo',\n",
       "       'Lolol Valley', 'Cauquenes Valley', 'Pageon', 'Groenekloof',\n",
       "       'Alenquer', 'Washington-Oregon', 'New Zealand', 'Ica',\n",
       "       'Vale dos Vinhedos', 'Lutzville Valley', 'Apalta', 'Malleco',\n",
       "       'Crete', 'Kakheti', 'North Carolina', 'Istria', 'Choapa Valley',\n",
       "       'San Jose', 'Serra Gaúcha', 'Georgia', 'Mittelrhein',\n",
       "       'Sagrada Familia', 'Constantia', 'Hemel en Aarde', 'Ceres Plateau',\n",
       "       'Bot River', 'Patras', 'Franken', 'Korinthia', 'Greece',\n",
       "       'San Clemente', 'Florina', 'Buin', 'Uruguay', 'Haut-Judeé',\n",
       "       'Ukraine', 'Terras do Sado', 'Maipo Valley-Colchagua Valley',\n",
       "       'Brazil', 'Leyda Valley-Maipo Valley', 'Switzerland',\n",
       "       'Goriska Brda', 'Waitaki Valley', 'Eger', 'Golan Heights', 'Muzla',\n",
       "       'Pirque', 'Vinho Espumante de Qualidade', 'Negev',\n",
       "       'Pitsilia Mountains', 'East Coast', 'Darling', 'Hungary',\n",
       "       'Elazığ-Diyarbakir', 'Jonkershoek Valley', 'Progreso', 'Corinth',\n",
       "       'Waiheke Island', 'Molina', 'Serra do Sudeste',\n",
       "       'Dealurile Munteniei', 'Curicó and Maipo Valleys', 'Kentucky',\n",
       "       'Župa', 'Turkey', 'Nashik', 'Ahr', 'Monemvasia', 'Tulbagh',\n",
       "       'Ismarikos', 'Connecticut', 'Iowa', 'Curicó and Leyda Valleys',\n",
       "       'Agioritikos', 'Casablanca-Curicó Valley', 'Missouri',\n",
       "       'Piekenierskloof', 'Malgas', 'Algarve', 'Mittelburgenland',\n",
       "       'Elazığ', 'Austria', 'Cape South Coast', 'Štajerska', 'Sopron',\n",
       "       'Bulgaria', 'North Dalmatia', 'Murfatlar', 'Vinho da Mesa',\n",
       "       'Cappadocia', 'Cephalonia', 'Beiras', 'Vale Trentino',\n",
       "       'Steiermark', 'Cederberg', 'Cahul', 'Dan', 'Podunavlje', 'Ticino',\n",
       "       'Vlootenburg', 'Brda', 'Morocco', 'Achaia', 'Rhode Island',\n",
       "       'Kutjevo', 'Vinho Espumante', 'Vânju Mare', 'Neusiedlersee',\n",
       "       'Breedekloof', 'Szekszárd', 'Mantinia', 'Dolenjska', 'Tikves',\n",
       "       'Österreichischer Perlwein', 'Panciu', 'Requinoa', 'Goumenissa',\n",
       "       'Portugal', 'Lakonia', 'Armenia', 'Paardeberg', 'South Africa',\n",
       "       'Bucelas', 'Krania Olympus', 'Pafos', 'Gladstone',\n",
       "       'Jerusalem Hills', 'Philadelphia', 'Mount Athos', 'Vinho Licoroso',\n",
       "       'Helderberg', 'Casablanca & Leyda Valleys', 'Urla-Thrace',\n",
       "       'Cyclades', 'Südburgenland', 'Cape Peninsula', 'Codru Region',\n",
       "       'Alenteo', 'Württemberg', 'Elim', 'Letrinon', 'Thessalikos',\n",
       "       'Hawaii', 'Viile Timis', 'Mátra', 'Devon Valley', 'Cape Agulhas',\n",
       "       'Kathikas', 'Vin de Pays de Velvendo', 'Landwein Rhein', 'Lesbos',\n",
       "       'Commandaria', 'Northern Cape', 'Távora-Varosa', 'Neuchâtel'],\n",
       "      dtype=object)"
      ]
     },
     "execution_count": 19,
     "metadata": {},
     "output_type": "execute_result"
    }
   ],
   "source": [
    "df['province'].unique()"
   ]
  },
  {
   "cell_type": "code",
   "execution_count": 65,
   "id": "1c69c922",
   "metadata": {},
   "outputs": [
    {
     "data": {
      "text/plain": [
       "array(['Nicosia', 'Quinta dos Avidagos', 'Rainstorm', ...,\n",
       "       'Cardinal Rule', 'Mas de Pampelonne', 'Penedo Borges'],\n",
       "      dtype=object)"
      ]
     },
     "execution_count": 65,
     "metadata": {},
     "output_type": "execute_result"
    }
   ],
   "source": [
    "df['winery'].unique()"
   ]
  },
  {
   "cell_type": "code",
   "execution_count": 66,
   "id": "18311c9f",
   "metadata": {},
   "outputs": [
    {
     "data": {
      "text/plain": [
       "<bound method NDFrame.head of province\n",
       "California          32061\n",
       "Washington           7579\n",
       "Bordeaux             5920\n",
       "Oregon               4917\n",
       "Tuscany              4785\n",
       "                    ...  \n",
       "Viile Timis             1\n",
       "Szekszárd               1\n",
       "Lutzville Valley        1\n",
       "Vinho Espumante         1\n",
       "Hawaii                  1\n",
       "Name: province, Length: 370, dtype: int64>"
      ]
     },
     "execution_count": 66,
     "metadata": {},
     "output_type": "execute_result"
    }
   ],
   "source": [
    "province_stats=df.groupby('province')['province'].agg('count').sort_values(ascending=False)\n",
    "province_stats.head"
   ]
  },
  {
   "cell_type": "code",
   "execution_count": 67,
   "id": "7288367e",
   "metadata": {},
   "outputs": [
    {
     "data": {
      "text/plain": [
       "91"
      ]
     },
     "execution_count": 67,
     "metadata": {},
     "output_type": "execute_result"
    }
   ],
   "source": [
    "provinces_less_than_100 = province_stats[province_stats >50].index.tolist()\n",
    "count_provinces_less_than_100 = len(provinces_less_than_100)\n",
    "count_provinces_less_than_100"
   ]
  },
  {
   "cell_type": "code",
   "execution_count": 68,
   "id": "4b2c7bde",
   "metadata": {},
   "outputs": [
    {
     "data": {
      "text/plain": [
       "province\n",
       "Wagram-Donauland    50\n",
       "Paarl               47\n",
       "Chile               46\n",
       "Elgin               45\n",
       "Texas               44\n",
       "                    ..\n",
       "Viile Timis          1\n",
       "Szekszárd            1\n",
       "Lutzville Valley     1\n",
       "Vinho Espumante      1\n",
       "Hawaii               1\n",
       "Name: province, Length: 279, dtype: int64"
      ]
     },
     "execution_count": 68,
     "metadata": {},
     "output_type": "execute_result"
    }
   ],
   "source": [
    "province_stats_less_than_50=province_stats[province_stats<=50]\n",
    "province_stats_less_than_50"
   ]
  },
  {
   "cell_type": "markdown",
   "id": "4764936c",
   "metadata": {},
   "source": [
    "<font color=#a83969>Currently, there are several provinces in the dataset with very low counts, even some with only one count. Specifically, there are 278 provinces with counts less than 50, 299 provinces with counts less than 100, and 91 provinces with counts greater than 50. Therefore, to simplify the data, I will label all these provinces as \"others.\" As a result, there are now a total of 92 types of provinces, including \"others.\"</font>"
   ]
  },
  {
   "cell_type": "code",
   "execution_count": 69,
   "id": "866d1f28",
   "metadata": {},
   "outputs": [
    {
     "data": {
      "text/plain": [
       "92"
      ]
     },
     "execution_count": 69,
     "metadata": {},
     "output_type": "execute_result"
    }
   ],
   "source": [
    "df.province=df.province.apply(lambda x: 'other' if x in province_stats_less_than_50 else x)\n",
    "len(df.province.unique())"
   ]
  },
  {
   "cell_type": "code",
   "execution_count": 70,
   "id": "521c6d33",
   "metadata": {},
   "outputs": [
    {
     "data": {
      "text/html": [
       "<div>\n",
       "<style scoped>\n",
       "    .dataframe tbody tr th:only-of-type {\n",
       "        vertical-align: middle;\n",
       "    }\n",
       "\n",
       "    .dataframe tbody tr th {\n",
       "        vertical-align: top;\n",
       "    }\n",
       "\n",
       "    .dataframe thead th {\n",
       "        text-align: right;\n",
       "    }\n",
       "</style>\n",
       "<table border=\"1\" class=\"dataframe\">\n",
       "  <thead>\n",
       "    <tr style=\"text-align: right;\">\n",
       "      <th></th>\n",
       "      <th>country</th>\n",
       "      <th>price</th>\n",
       "      <th>province</th>\n",
       "      <th>winery</th>\n",
       "      <th>variety</th>\n",
       "    </tr>\n",
       "  </thead>\n",
       "  <tbody>\n",
       "    <tr>\n",
       "      <th>0</th>\n",
       "      <td>Italy</td>\n",
       "      <td>23.0</td>\n",
       "      <td>Sicily &amp; Sardinia</td>\n",
       "      <td>Nicosia</td>\n",
       "      <td>White Blend</td>\n",
       "    </tr>\n",
       "    <tr>\n",
       "      <th>1</th>\n",
       "      <td>Portugal</td>\n",
       "      <td>15.0</td>\n",
       "      <td>Douro</td>\n",
       "      <td>Quinta dos Avidagos</td>\n",
       "      <td>Portuguese Red</td>\n",
       "    </tr>\n",
       "    <tr>\n",
       "      <th>2</th>\n",
       "      <td>US</td>\n",
       "      <td>14.0</td>\n",
       "      <td>Oregon</td>\n",
       "      <td>Rainstorm</td>\n",
       "      <td>Pinot Gris</td>\n",
       "    </tr>\n",
       "    <tr>\n",
       "      <th>3</th>\n",
       "      <td>US</td>\n",
       "      <td>13.0</td>\n",
       "      <td>Michigan</td>\n",
       "      <td>St. Julian</td>\n",
       "      <td>Riesling</td>\n",
       "    </tr>\n",
       "    <tr>\n",
       "      <th>4</th>\n",
       "      <td>US</td>\n",
       "      <td>65.0</td>\n",
       "      <td>Oregon</td>\n",
       "      <td>Sweet Cheeks</td>\n",
       "      <td>Pinot Noir</td>\n",
       "    </tr>\n",
       "  </tbody>\n",
       "</table>\n",
       "</div>"
      ],
      "text/plain": [
       "    country  price           province               winery         variety\n",
       "0     Italy   23.0  Sicily & Sardinia              Nicosia     White Blend\n",
       "1  Portugal   15.0              Douro  Quinta dos Avidagos  Portuguese Red\n",
       "2        US   14.0             Oregon            Rainstorm      Pinot Gris\n",
       "3        US   13.0           Michigan           St. Julian        Riesling\n",
       "4        US   65.0             Oregon         Sweet Cheeks      Pinot Noir"
      ]
     },
     "execution_count": 70,
     "metadata": {},
     "output_type": "execute_result"
    }
   ],
   "source": [
    "df.head()"
   ]
  },
  {
   "cell_type": "code",
   "execution_count": 71,
   "id": "9a41bf38",
   "metadata": {},
   "outputs": [
    {
     "data": {
      "text/plain": [
       "<bound method NDFrame.head of winery\n",
       "Testarossa                   217\n",
       "Williams Selyem              203\n",
       "Louis Latour                 199\n",
       "Georges Duboeuf              195\n",
       "Chateau Ste. Michelle        187\n",
       "                            ... \n",
       "Left Foot Charley              1\n",
       "Château Respide-Médeville      1\n",
       "Ruggeri & C.                   1\n",
       "Rui Reguinga                   1\n",
       "Hamilton's Ewell Vineyard      1\n",
       "Name: winery, Length: 14718, dtype: int64>"
      ]
     },
     "execution_count": 71,
     "metadata": {},
     "output_type": "execute_result"
    }
   ],
   "source": [
    "winery_stats=df.groupby('winery')['winery'].agg('count').sort_values(ascending=False)\n",
    "winery_stats.head"
   ]
  },
  {
   "cell_type": "code",
   "execution_count": 72,
   "id": "eccbe288",
   "metadata": {},
   "outputs": [
    {
     "data": {
      "text/plain": [
       "12151"
      ]
     },
     "execution_count": 72,
     "metadata": {},
     "output_type": "execute_result"
    }
   ],
   "source": [
    "winery_less_than_10 = winery_stats[winery_stats <=10].index.tolist()\n",
    "count_winery_less_than_10 = len(winery_less_than_10)\n",
    "count_winery_less_than_10"
   ]
  },
  {
   "cell_type": "markdown",
   "id": "e48f8029",
   "metadata": {},
   "source": [
    "<font color=#a83969>In a similar fashion, for winery, there exist 12151 wineries with less than 10 counts. To tackle this, we are marking them as \"other\". Thus, we have 92 unique wineries, including \"other\".</font>"
   ]
  },
  {
   "cell_type": "code",
   "execution_count": 73,
   "id": "24195f65",
   "metadata": {},
   "outputs": [
    {
     "data": {
      "text/plain": [
       "92"
      ]
     },
     "execution_count": 73,
     "metadata": {},
     "output_type": "execute_result"
    }
   ],
   "source": [
    "winery_stats_less_than_10=winery_stats[winery_stats<=10]\n",
    "df.winery=df.winery.apply(lambda x: 'other' if x in winery_stats_less_than_10 else x)\n",
    "len(df.province.unique())"
   ]
  },
  {
   "cell_type": "markdown",
   "id": "a5f01280",
   "metadata": {},
   "source": [
    "<font color=#a83969>To avoid increasing the dimensions significantly and making the model more complex and slow, I opted for factorization method instead of one hot encoding. This method assigned a unique number to each country, province, winery, and variety.</font>"
   ]
  },
  {
   "cell_type": "code",
   "execution_count": 74,
   "id": "073ee794",
   "metadata": {
    "scrolled": true
   },
   "outputs": [
    {
     "data": {
      "text/html": [
       "<div>\n",
       "<style scoped>\n",
       "    .dataframe tbody tr th:only-of-type {\n",
       "        vertical-align: middle;\n",
       "    }\n",
       "\n",
       "    .dataframe tbody tr th {\n",
       "        vertical-align: top;\n",
       "    }\n",
       "\n",
       "    .dataframe thead th {\n",
       "        text-align: right;\n",
       "    }\n",
       "</style>\n",
       "<table border=\"1\" class=\"dataframe\">\n",
       "  <thead>\n",
       "    <tr style=\"text-align: right;\">\n",
       "      <th></th>\n",
       "      <th>country</th>\n",
       "      <th>price</th>\n",
       "      <th>province</th>\n",
       "      <th>winery</th>\n",
       "      <th>variety</th>\n",
       "      <th>variety_number</th>\n",
       "    </tr>\n",
       "  </thead>\n",
       "  <tbody>\n",
       "    <tr>\n",
       "      <th>0</th>\n",
       "      <td>Italy</td>\n",
       "      <td>23.0</td>\n",
       "      <td>Sicily &amp; Sardinia</td>\n",
       "      <td>other</td>\n",
       "      <td>White Blend</td>\n",
       "      <td>0</td>\n",
       "    </tr>\n",
       "    <tr>\n",
       "      <th>1</th>\n",
       "      <td>Portugal</td>\n",
       "      <td>15.0</td>\n",
       "      <td>Douro</td>\n",
       "      <td>other</td>\n",
       "      <td>Portuguese Red</td>\n",
       "      <td>1</td>\n",
       "    </tr>\n",
       "    <tr>\n",
       "      <th>2</th>\n",
       "      <td>US</td>\n",
       "      <td>14.0</td>\n",
       "      <td>Oregon</td>\n",
       "      <td>Rainstorm</td>\n",
       "      <td>Pinot Gris</td>\n",
       "      <td>2</td>\n",
       "    </tr>\n",
       "    <tr>\n",
       "      <th>3</th>\n",
       "      <td>US</td>\n",
       "      <td>13.0</td>\n",
       "      <td>Michigan</td>\n",
       "      <td>other</td>\n",
       "      <td>Riesling</td>\n",
       "      <td>3</td>\n",
       "    </tr>\n",
       "    <tr>\n",
       "      <th>4</th>\n",
       "      <td>US</td>\n",
       "      <td>65.0</td>\n",
       "      <td>Oregon</td>\n",
       "      <td>Sweet Cheeks</td>\n",
       "      <td>Pinot Noir</td>\n",
       "      <td>4</td>\n",
       "    </tr>\n",
       "  </tbody>\n",
       "</table>\n",
       "</div>"
      ],
      "text/plain": [
       "    country  price           province        winery         variety  \\\n",
       "0     Italy   23.0  Sicily & Sardinia         other     White Blend   \n",
       "1  Portugal   15.0              Douro         other  Portuguese Red   \n",
       "2        US   14.0             Oregon     Rainstorm      Pinot Gris   \n",
       "3        US   13.0           Michigan         other        Riesling   \n",
       "4        US   65.0             Oregon  Sweet Cheeks      Pinot Noir   \n",
       "\n",
       "   variety_number  \n",
       "0               0  \n",
       "1               1  \n",
       "2               2  \n",
       "3               3  \n",
       "4               4  "
      ]
     },
     "execution_count": 74,
     "metadata": {},
     "output_type": "execute_result"
    }
   ],
   "source": [
    "df['variety_number'] = df['variety'].factorize()[0]\n",
    "df.head()"
   ]
  },
  {
   "cell_type": "code",
   "execution_count": 75,
   "id": "a077f36c",
   "metadata": {},
   "outputs": [
    {
     "data": {
      "text/html": [
       "<div>\n",
       "<style scoped>\n",
       "    .dataframe tbody tr th:only-of-type {\n",
       "        vertical-align: middle;\n",
       "    }\n",
       "\n",
       "    .dataframe tbody tr th {\n",
       "        vertical-align: top;\n",
       "    }\n",
       "\n",
       "    .dataframe thead th {\n",
       "        text-align: right;\n",
       "    }\n",
       "</style>\n",
       "<table border=\"1\" class=\"dataframe\">\n",
       "  <thead>\n",
       "    <tr style=\"text-align: right;\">\n",
       "      <th></th>\n",
       "      <th>country</th>\n",
       "      <th>price</th>\n",
       "      <th>province</th>\n",
       "      <th>winery</th>\n",
       "      <th>variety</th>\n",
       "      <th>variety_number</th>\n",
       "    </tr>\n",
       "  </thead>\n",
       "  <tbody>\n",
       "    <tr>\n",
       "      <th>0</th>\n",
       "      <td>0</td>\n",
       "      <td>23.0</td>\n",
       "      <td>Sicily &amp; Sardinia</td>\n",
       "      <td>other</td>\n",
       "      <td>White Blend</td>\n",
       "      <td>0</td>\n",
       "    </tr>\n",
       "    <tr>\n",
       "      <th>1</th>\n",
       "      <td>1</td>\n",
       "      <td>15.0</td>\n",
       "      <td>Douro</td>\n",
       "      <td>other</td>\n",
       "      <td>Portuguese Red</td>\n",
       "      <td>1</td>\n",
       "    </tr>\n",
       "    <tr>\n",
       "      <th>2</th>\n",
       "      <td>2</td>\n",
       "      <td>14.0</td>\n",
       "      <td>Oregon</td>\n",
       "      <td>Rainstorm</td>\n",
       "      <td>Pinot Gris</td>\n",
       "      <td>2</td>\n",
       "    </tr>\n",
       "    <tr>\n",
       "      <th>3</th>\n",
       "      <td>2</td>\n",
       "      <td>13.0</td>\n",
       "      <td>Michigan</td>\n",
       "      <td>other</td>\n",
       "      <td>Riesling</td>\n",
       "      <td>3</td>\n",
       "    </tr>\n",
       "    <tr>\n",
       "      <th>4</th>\n",
       "      <td>2</td>\n",
       "      <td>65.0</td>\n",
       "      <td>Oregon</td>\n",
       "      <td>Sweet Cheeks</td>\n",
       "      <td>Pinot Noir</td>\n",
       "      <td>4</td>\n",
       "    </tr>\n",
       "  </tbody>\n",
       "</table>\n",
       "</div>"
      ],
      "text/plain": [
       "   country  price           province        winery         variety  \\\n",
       "0        0   23.0  Sicily & Sardinia         other     White Blend   \n",
       "1        1   15.0              Douro         other  Portuguese Red   \n",
       "2        2   14.0             Oregon     Rainstorm      Pinot Gris   \n",
       "3        2   13.0           Michigan         other        Riesling   \n",
       "4        2   65.0             Oregon  Sweet Cheeks      Pinot Noir   \n",
       "\n",
       "   variety_number  \n",
       "0               0  \n",
       "1               1  \n",
       "2               2  \n",
       "3               3  \n",
       "4               4  "
      ]
     },
     "execution_count": 75,
     "metadata": {},
     "output_type": "execute_result"
    }
   ],
   "source": [
    "df['country'] = df['country'].factorize()[0]\n",
    "df.head()"
   ]
  },
  {
   "cell_type": "code",
   "execution_count": 76,
   "id": "67215186",
   "metadata": {},
   "outputs": [
    {
     "data": {
      "text/html": [
       "<div>\n",
       "<style scoped>\n",
       "    .dataframe tbody tr th:only-of-type {\n",
       "        vertical-align: middle;\n",
       "    }\n",
       "\n",
       "    .dataframe tbody tr th {\n",
       "        vertical-align: top;\n",
       "    }\n",
       "\n",
       "    .dataframe thead th {\n",
       "        text-align: right;\n",
       "    }\n",
       "</style>\n",
       "<table border=\"1\" class=\"dataframe\">\n",
       "  <thead>\n",
       "    <tr style=\"text-align: right;\">\n",
       "      <th></th>\n",
       "      <th>country</th>\n",
       "      <th>price</th>\n",
       "      <th>province</th>\n",
       "      <th>winery</th>\n",
       "      <th>variety</th>\n",
       "      <th>variety_number</th>\n",
       "    </tr>\n",
       "  </thead>\n",
       "  <tbody>\n",
       "    <tr>\n",
       "      <th>0</th>\n",
       "      <td>0</td>\n",
       "      <td>23.0</td>\n",
       "      <td>0</td>\n",
       "      <td>other</td>\n",
       "      <td>White Blend</td>\n",
       "      <td>0</td>\n",
       "    </tr>\n",
       "    <tr>\n",
       "      <th>1</th>\n",
       "      <td>1</td>\n",
       "      <td>15.0</td>\n",
       "      <td>1</td>\n",
       "      <td>other</td>\n",
       "      <td>Portuguese Red</td>\n",
       "      <td>1</td>\n",
       "    </tr>\n",
       "    <tr>\n",
       "      <th>2</th>\n",
       "      <td>2</td>\n",
       "      <td>14.0</td>\n",
       "      <td>2</td>\n",
       "      <td>Rainstorm</td>\n",
       "      <td>Pinot Gris</td>\n",
       "      <td>2</td>\n",
       "    </tr>\n",
       "    <tr>\n",
       "      <th>3</th>\n",
       "      <td>2</td>\n",
       "      <td>13.0</td>\n",
       "      <td>3</td>\n",
       "      <td>other</td>\n",
       "      <td>Riesling</td>\n",
       "      <td>3</td>\n",
       "    </tr>\n",
       "    <tr>\n",
       "      <th>4</th>\n",
       "      <td>2</td>\n",
       "      <td>65.0</td>\n",
       "      <td>2</td>\n",
       "      <td>Sweet Cheeks</td>\n",
       "      <td>Pinot Noir</td>\n",
       "      <td>4</td>\n",
       "    </tr>\n",
       "  </tbody>\n",
       "</table>\n",
       "</div>"
      ],
      "text/plain": [
       "   country  price  province        winery         variety  variety_number\n",
       "0        0   23.0         0         other     White Blend               0\n",
       "1        1   15.0         1         other  Portuguese Red               1\n",
       "2        2   14.0         2     Rainstorm      Pinot Gris               2\n",
       "3        2   13.0         3         other        Riesling               3\n",
       "4        2   65.0         2  Sweet Cheeks      Pinot Noir               4"
      ]
     },
     "execution_count": 76,
     "metadata": {},
     "output_type": "execute_result"
    }
   ],
   "source": [
    "df['province'] = df['province'].factorize()[0]\n",
    "df.head()"
   ]
  },
  {
   "cell_type": "code",
   "execution_count": 77,
   "id": "8d4c5973",
   "metadata": {},
   "outputs": [
    {
     "data": {
      "text/html": [
       "<div>\n",
       "<style scoped>\n",
       "    .dataframe tbody tr th:only-of-type {\n",
       "        vertical-align: middle;\n",
       "    }\n",
       "\n",
       "    .dataframe tbody tr th {\n",
       "        vertical-align: top;\n",
       "    }\n",
       "\n",
       "    .dataframe thead th {\n",
       "        text-align: right;\n",
       "    }\n",
       "</style>\n",
       "<table border=\"1\" class=\"dataframe\">\n",
       "  <thead>\n",
       "    <tr style=\"text-align: right;\">\n",
       "      <th></th>\n",
       "      <th>country</th>\n",
       "      <th>price</th>\n",
       "      <th>province</th>\n",
       "      <th>winery</th>\n",
       "      <th>variety</th>\n",
       "      <th>variety_number</th>\n",
       "    </tr>\n",
       "  </thead>\n",
       "  <tbody>\n",
       "    <tr>\n",
       "      <th>0</th>\n",
       "      <td>0</td>\n",
       "      <td>23.0</td>\n",
       "      <td>0</td>\n",
       "      <td>0</td>\n",
       "      <td>White Blend</td>\n",
       "      <td>0</td>\n",
       "    </tr>\n",
       "    <tr>\n",
       "      <th>1</th>\n",
       "      <td>1</td>\n",
       "      <td>15.0</td>\n",
       "      <td>1</td>\n",
       "      <td>0</td>\n",
       "      <td>Portuguese Red</td>\n",
       "      <td>1</td>\n",
       "    </tr>\n",
       "    <tr>\n",
       "      <th>2</th>\n",
       "      <td>2</td>\n",
       "      <td>14.0</td>\n",
       "      <td>2</td>\n",
       "      <td>1</td>\n",
       "      <td>Pinot Gris</td>\n",
       "      <td>2</td>\n",
       "    </tr>\n",
       "    <tr>\n",
       "      <th>3</th>\n",
       "      <td>2</td>\n",
       "      <td>13.0</td>\n",
       "      <td>3</td>\n",
       "      <td>0</td>\n",
       "      <td>Riesling</td>\n",
       "      <td>3</td>\n",
       "    </tr>\n",
       "    <tr>\n",
       "      <th>4</th>\n",
       "      <td>2</td>\n",
       "      <td>65.0</td>\n",
       "      <td>2</td>\n",
       "      <td>2</td>\n",
       "      <td>Pinot Noir</td>\n",
       "      <td>4</td>\n",
       "    </tr>\n",
       "  </tbody>\n",
       "</table>\n",
       "</div>"
      ],
      "text/plain": [
       "   country  price  province  winery         variety  variety_number\n",
       "0        0   23.0         0       0     White Blend               0\n",
       "1        1   15.0         1       0  Portuguese Red               1\n",
       "2        2   14.0         2       1      Pinot Gris               2\n",
       "3        2   13.0         3       0        Riesling               3\n",
       "4        2   65.0         2       2      Pinot Noir               4"
      ]
     },
     "execution_count": 77,
     "metadata": {},
     "output_type": "execute_result"
    }
   ],
   "source": [
    "df['winery'] = df['winery'].factorize()[0]\n",
    "df.head()"
   ]
  },
  {
   "cell_type": "code",
   "execution_count": 78,
   "id": "78f56e89",
   "metadata": {},
   "outputs": [
    {
     "data": {
      "text/html": [
       "<div>\n",
       "<style scoped>\n",
       "    .dataframe tbody tr th:only-of-type {\n",
       "        vertical-align: middle;\n",
       "    }\n",
       "\n",
       "    .dataframe tbody tr th {\n",
       "        vertical-align: top;\n",
       "    }\n",
       "\n",
       "    .dataframe thead th {\n",
       "        text-align: right;\n",
       "    }\n",
       "</style>\n",
       "<table border=\"1\" class=\"dataframe\">\n",
       "  <thead>\n",
       "    <tr style=\"text-align: right;\">\n",
       "      <th></th>\n",
       "      <th>country</th>\n",
       "      <th>price</th>\n",
       "      <th>province</th>\n",
       "      <th>winery</th>\n",
       "      <th>variety_number</th>\n",
       "    </tr>\n",
       "  </thead>\n",
       "  <tbody>\n",
       "    <tr>\n",
       "      <th>0</th>\n",
       "      <td>0</td>\n",
       "      <td>23.0</td>\n",
       "      <td>0</td>\n",
       "      <td>0</td>\n",
       "      <td>0</td>\n",
       "    </tr>\n",
       "    <tr>\n",
       "      <th>1</th>\n",
       "      <td>1</td>\n",
       "      <td>15.0</td>\n",
       "      <td>1</td>\n",
       "      <td>0</td>\n",
       "      <td>1</td>\n",
       "    </tr>\n",
       "    <tr>\n",
       "      <th>2</th>\n",
       "      <td>2</td>\n",
       "      <td>14.0</td>\n",
       "      <td>2</td>\n",
       "      <td>1</td>\n",
       "      <td>2</td>\n",
       "    </tr>\n",
       "    <tr>\n",
       "      <th>3</th>\n",
       "      <td>2</td>\n",
       "      <td>13.0</td>\n",
       "      <td>3</td>\n",
       "      <td>0</td>\n",
       "      <td>3</td>\n",
       "    </tr>\n",
       "    <tr>\n",
       "      <th>4</th>\n",
       "      <td>2</td>\n",
       "      <td>65.0</td>\n",
       "      <td>2</td>\n",
       "      <td>2</td>\n",
       "      <td>4</td>\n",
       "    </tr>\n",
       "  </tbody>\n",
       "</table>\n",
       "</div>"
      ],
      "text/plain": [
       "   country  price  province  winery  variety_number\n",
       "0        0   23.0         0       0               0\n",
       "1        1   15.0         1       0               1\n",
       "2        2   14.0         2       1               2\n",
       "3        2   13.0         3       0               3\n",
       "4        2   65.0         2       2               4"
      ]
     },
     "execution_count": 78,
     "metadata": {},
     "output_type": "execute_result"
    }
   ],
   "source": [
    "df=df.drop(['variety'],axis='columns')\n",
    "df.head()"
   ]
  },
  {
   "cell_type": "code",
   "execution_count": 79,
   "id": "953553c3",
   "metadata": {},
   "outputs": [
    {
     "data": {
      "text/html": [
       "<div>\n",
       "<style scoped>\n",
       "    .dataframe tbody tr th:only-of-type {\n",
       "        vertical-align: middle;\n",
       "    }\n",
       "\n",
       "    .dataframe tbody tr th {\n",
       "        vertical-align: top;\n",
       "    }\n",
       "\n",
       "    .dataframe thead th {\n",
       "        text-align: right;\n",
       "    }\n",
       "</style>\n",
       "<table border=\"1\" class=\"dataframe\">\n",
       "  <thead>\n",
       "    <tr style=\"text-align: right;\">\n",
       "      <th></th>\n",
       "      <th>country</th>\n",
       "      <th>price</th>\n",
       "      <th>province</th>\n",
       "      <th>winery</th>\n",
       "    </tr>\n",
       "  </thead>\n",
       "  <tbody>\n",
       "    <tr>\n",
       "      <th>0</th>\n",
       "      <td>0</td>\n",
       "      <td>23.0</td>\n",
       "      <td>0</td>\n",
       "      <td>0</td>\n",
       "    </tr>\n",
       "    <tr>\n",
       "      <th>1</th>\n",
       "      <td>1</td>\n",
       "      <td>15.0</td>\n",
       "      <td>1</td>\n",
       "      <td>0</td>\n",
       "    </tr>\n",
       "    <tr>\n",
       "      <th>2</th>\n",
       "      <td>2</td>\n",
       "      <td>14.0</td>\n",
       "      <td>2</td>\n",
       "      <td>1</td>\n",
       "    </tr>\n",
       "    <tr>\n",
       "      <th>3</th>\n",
       "      <td>2</td>\n",
       "      <td>13.0</td>\n",
       "      <td>3</td>\n",
       "      <td>0</td>\n",
       "    </tr>\n",
       "    <tr>\n",
       "      <th>4</th>\n",
       "      <td>2</td>\n",
       "      <td>65.0</td>\n",
       "      <td>2</td>\n",
       "      <td>2</td>\n",
       "    </tr>\n",
       "  </tbody>\n",
       "</table>\n",
       "</div>"
      ],
      "text/plain": [
       "   country  price  province  winery\n",
       "0        0   23.0         0       0\n",
       "1        1   15.0         1       0\n",
       "2        2   14.0         2       1\n",
       "3        2   13.0         3       0\n",
       "4        2   65.0         2       2"
      ]
     },
     "execution_count": 79,
     "metadata": {},
     "output_type": "execute_result"
    }
   ],
   "source": [
    "X=df.drop('variety_number',axis=1)\n",
    "X.head()"
   ]
  },
  {
   "cell_type": "code",
   "execution_count": 81,
   "id": "5e188f56",
   "metadata": {},
   "outputs": [
    {
     "data": {
      "text/plain": [
       "0    0\n",
       "1    1\n",
       "2    2\n",
       "3    3\n",
       "4    4\n",
       "5    5\n",
       "6    5\n",
       "7    2\n",
       "8    6\n",
       "9    5\n",
       "Name: variety_number, dtype: int64"
      ]
     },
     "execution_count": 81,
     "metadata": {},
     "output_type": "execute_result"
    }
   ],
   "source": [
    "y=df.variety_number\n",
    "y.head(10)"
   ]
  },
  {
   "cell_type": "code",
   "execution_count": 93,
   "id": "56e0e968",
   "metadata": {},
   "outputs": [],
   "source": [
    "from sklearn.model_selection import train_test_split\n",
    "X_train, X_test, y_train, y_test = train_test_split(X,y,test_size=0.2,random_state=10) "
   ]
  },
  {
   "cell_type": "code",
   "execution_count": 94,
   "id": "6b44b641",
   "metadata": {},
   "outputs": [
    {
     "data": {
      "text/plain": [
       "0.04346536121666744"
      ]
     },
     "execution_count": 94,
     "metadata": {},
     "output_type": "execute_result"
    }
   ],
   "source": [
    "from sklearn.linear_model import LinearRegression\n",
    "lr_clf=LinearRegression()\n",
    "lr_clf.fit(X_train,y_train)\n",
    "lr_clf.score(X_test,y_test)"
   ]
  },
  {
   "cell_type": "code",
   "execution_count": 85,
   "id": "77914106",
   "metadata": {},
   "outputs": [
    {
     "name": "stderr",
     "output_type": "stream",
     "text": [
      "C:\\Users\\saran\\anaconda3\\lib\\site-packages\\sklearn\\linear_model\\_logistic.py:814: ConvergenceWarning: lbfgs failed to converge (status=1):\n",
      "STOP: TOTAL NO. of ITERATIONS REACHED LIMIT.\n",
      "\n",
      "Increase the number of iterations (max_iter) or scale the data as shown in:\n",
      "    https://scikit-learn.org/stable/modules/preprocessing.html\n",
      "Please also refer to the documentation for alternative solver options:\n",
      "    https://scikit-learn.org/stable/modules/linear_model.html#logistic-regression\n",
      "  n_iter_i = _check_optimize_result(\n"
     ]
    },
    {
     "data": {
      "text/plain": [
       "0.1580578012296074"
      ]
     },
     "execution_count": 85,
     "metadata": {},
     "output_type": "execute_result"
    }
   ],
   "source": [
    "from sklearn.linear_model import LogisticRegression\n",
    "Lr_clf=LogisticRegression()\n",
    "Lr_clf.fit(X_train,y_train)\n",
    "Lr_clf.score(X_test,y_test)"
   ]
  },
  {
   "cell_type": "code",
   "execution_count": 99,
   "id": "90efcec1",
   "metadata": {},
   "outputs": [
    {
     "data": {
      "text/plain": [
       "0.560342740959481"
      ]
     },
     "execution_count": 99,
     "metadata": {},
     "output_type": "execute_result"
    }
   ],
   "source": [
    "from sklearn import tree\n",
    "dt_clf = tree.DecisionTreeClassifier()\n",
    "dt_clf.fit(X_train,y_train)\n",
    "dt_clf.score(X_test,y_test)"
   ]
  },
  {
   "cell_type": "code",
   "execution_count": 87,
   "id": "53ff03e6",
   "metadata": {},
   "outputs": [
    {
     "data": {
      "text/plain": [
       "0.16057510771167158"
      ]
     },
     "execution_count": 87,
     "metadata": {},
     "output_type": "execute_result"
    }
   ],
   "source": [
    "from sklearn.svm import SVC\n",
    "svc_clf = SVC()\n",
    "svc_clf.fit(X_train,y_train)\n",
    "svc_clf.score(X_test,y_test)"
   ]
  },
  {
   "cell_type": "code",
   "execution_count": 96,
   "id": "e6e17954",
   "metadata": {},
   "outputs": [
    {
     "data": {
      "text/plain": [
       "0.5616013942005131"
      ]
     },
     "execution_count": 96,
     "metadata": {},
     "output_type": "execute_result"
    }
   ],
   "source": [
    "from sklearn.ensemble import RandomForestClassifier\n",
    "rfc_clf = RandomForestClassifier(n_estimators=20)\n",
    "rfc_clf.fit(X_train, y_train)\n",
    "rfc_clf.score(X_test,y_test)"
   ]
  },
  {
   "cell_type": "code",
   "execution_count": 89,
   "id": "cc01bb0c",
   "metadata": {},
   "outputs": [
    {
     "data": {
      "text/plain": [
       "0.17311323038195284"
      ]
     },
     "execution_count": 89,
     "metadata": {},
     "output_type": "execute_result"
    }
   ],
   "source": [
    "from sklearn.naive_bayes import GaussianNB\n",
    "gnb_clf = GaussianNB()\n",
    "gnb_clf.fit(X_train, y_train)\n",
    "gnb_clf.score(X_test,y_test)"
   ]
  },
  {
   "cell_type": "code",
   "execution_count": 91,
   "id": "32a423aa",
   "metadata": {},
   "outputs": [
    {
     "data": {
      "text/plain": [
       "0.07774604250375175"
      ]
     },
     "execution_count": 91,
     "metadata": {},
     "output_type": "execute_result"
    }
   ],
   "source": [
    "from sklearn.naive_bayes import MultinomialNB\n",
    "mnb_clf = MultinomialNB()\n",
    "mnb_clf.fit(X_train,y_train)\n",
    "mnb_clf.score(X_test,y_test)"
   ]
  },
  {
   "cell_type": "code",
   "execution_count": 97,
   "id": "6ae16fc8",
   "metadata": {},
   "outputs": [
    {
     "name": "stderr",
     "output_type": "stream",
     "text": [
      "C:\\Users\\saran\\anaconda3\\lib\\site-packages\\sklearn\\neighbors\\_classification.py:228: FutureWarning: Unlike other reduction functions (e.g. `skew`, `kurtosis`), the default behavior of `mode` typically preserves the axis it acts along. In SciPy 1.11.0, this behavior will change: the default value of `keepdims` will become False, the `axis` over which the statistic is taken will be eliminated, and the value None will no longer be accepted. Set `keepdims` to True or False to avoid this warning.\n",
      "  mode, _ = stats.mode(_y[neigh_ind, k], axis=1)\n"
     ]
    },
    {
     "data": {
      "text/plain": [
       "0.4670087621629472"
      ]
     },
     "execution_count": 97,
     "metadata": {},
     "output_type": "execute_result"
    }
   ],
   "source": [
    "from sklearn.neighbors import KNeighborsClassifier\n",
    "knn_clf = KNeighborsClassifier(n_neighbors=10)\n",
    "knn_clf.fit(X_train,y_train)\n",
    "knn_clf.score(X_test,y_test)"
   ]
  },
  {
   "cell_type": "code",
   "execution_count": 107,
   "id": "3935eea5",
   "metadata": {},
   "outputs": [
    {
     "data": {
      "text/plain": [
       "array([0.5680883 , 0.56106889, 0.56005228, 0.55961659, 0.56155298,\n",
       "       0.56344096, 0.55845476, 0.56528053, 0.56334414, 0.55695406])"
      ]
     },
     "execution_count": 107,
     "metadata": {},
     "output_type": "execute_result"
    }
   ],
   "source": [
    "from sklearn.model_selection import ShuffleSplit\n",
    "from sklearn.model_selection import cross_val_score\n",
    "from sklearn import tree\n",
    "cv = ShuffleSplit(n_splits=10, test_size=0.2, random_state=0)\n",
    "\n",
    "cross_val_score(tree.DecisionTreeClassifier(), X, y, cv=cv)"
   ]
  },
  {
   "cell_type": "code",
   "execution_count": 112,
   "id": "5af8b290",
   "metadata": {},
   "outputs": [
    {
     "data": {
      "text/plain": [
       "array([0.57079924, 0.56077843, 0.56160139, 0.56106889, 0.56431234,\n",
       "       0.56503849, 0.56068161, 0.56455439, 0.56305369, 0.55593745])"
      ]
     },
     "execution_count": 112,
     "metadata": {},
     "output_type": "execute_result"
    }
   ],
   "source": [
    "from sklearn.model_selection import ShuffleSplit\n",
    "from sklearn.model_selection import cross_val_score\n",
    "from sklearn import tree\n",
    "cv = ShuffleSplit(n_splits=10, test_size=0.2, random_state=0)\n",
    "\n",
    "cross_val_score(RandomForestClassifier(n_estimators=50), X, y, cv=cv)"
   ]
  },
  {
   "cell_type": "markdown",
   "id": "7aea81c0",
   "metadata": {},
   "source": [
    "<font color=#a83969>The random forest classifier achieved the highest accuracy of 56.27% using 10 k cross validation.</font>"
   ]
  },
  {
   "cell_type": "code",
   "execution_count": 114,
   "id": "88f61844",
   "metadata": {},
   "outputs": [],
   "source": [
    "import pickle\n",
    "with open('wine_variety_predict.pickle','wb') as f:\n",
    "    pickle.dump(rfc_clf,f)"
   ]
  }
 ],
 "metadata": {
  "kernelspec": {
   "display_name": "Python 3 (ipykernel)",
   "language": "python",
   "name": "python3"
  },
  "language_info": {
   "codemirror_mode": {
    "name": "ipython",
    "version": 3
   },
   "file_extension": ".py",
   "mimetype": "text/x-python",
   "name": "python",
   "nbconvert_exporter": "python",
   "pygments_lexer": "ipython3",
   "version": "3.9.13"
  }
 },
 "nbformat": 4,
 "nbformat_minor": 5
}
