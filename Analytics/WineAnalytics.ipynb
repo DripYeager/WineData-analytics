{
 "cells": [
  {
   "cell_type": "markdown",
   "id": "9c9d1f7a",
   "metadata": {},
   "source": [
    "# Wine Data Insights"
   ]
  },
  {
   "cell_type": "markdown",
   "id": "f42c01b3",
   "metadata": {},
   "source": [
    "Every detail or insights are written in <font color=#a83969>Wine color</font>."
   ]
  },
  {
   "cell_type": "code",
   "execution_count": 2,
   "id": "9677e422",
   "metadata": {},
   "outputs": [],
   "source": [
    "import pandas as pd\n",
    "import matplotlib.pyplot as plt\n",
    "%matplotlib inline"
   ]
  },
  {
   "cell_type": "markdown",
   "id": "329e051f",
   "metadata": {},
   "source": [
    "<font color=#a83969>Load the CSV file into a Pandas DataFrame</font>"
   ]
  },
  {
   "cell_type": "code",
   "execution_count": 3,
   "id": "5fc67b01",
   "metadata": {},
   "outputs": [
    {
     "data": {
      "text/html": [
       "<div>\n",
       "<style scoped>\n",
       "    .dataframe tbody tr th:only-of-type {\n",
       "        vertical-align: middle;\n",
       "    }\n",
       "\n",
       "    .dataframe tbody tr th {\n",
       "        vertical-align: top;\n",
       "    }\n",
       "\n",
       "    .dataframe thead th {\n",
       "        text-align: right;\n",
       "    }\n",
       "</style>\n",
       "<table border=\"1\" class=\"dataframe\">\n",
       "  <thead>\n",
       "    <tr style=\"text-align: right;\">\n",
       "      <th></th>\n",
       "      <th>user_name</th>\n",
       "      <th>country</th>\n",
       "      <th>review_title</th>\n",
       "      <th>review_description</th>\n",
       "      <th>designation</th>\n",
       "      <th>points</th>\n",
       "      <th>price</th>\n",
       "      <th>province</th>\n",
       "      <th>region_1</th>\n",
       "      <th>region_2</th>\n",
       "      <th>winery</th>\n",
       "      <th>variety</th>\n",
       "    </tr>\n",
       "  </thead>\n",
       "  <tbody>\n",
       "    <tr>\n",
       "      <th>0</th>\n",
       "      <td>@kerinokeefe</td>\n",
       "      <td>Italy</td>\n",
       "      <td>Nicosia 2013 Vulkà Bianco  (Etna)</td>\n",
       "      <td>Aromas include tropical fruit, broom, brimston...</td>\n",
       "      <td>Vulkà Bianco</td>\n",
       "      <td>87</td>\n",
       "      <td>NaN</td>\n",
       "      <td>Sicily &amp; Sardinia</td>\n",
       "      <td>Etna</td>\n",
       "      <td>NaN</td>\n",
       "      <td>Nicosia</td>\n",
       "      <td>White Blend</td>\n",
       "    </tr>\n",
       "    <tr>\n",
       "      <th>1</th>\n",
       "      <td>@vossroger</td>\n",
       "      <td>Portugal</td>\n",
       "      <td>Quinta dos Avidagos 2011 Avidagos Red (Douro)</td>\n",
       "      <td>This is ripe and fruity, a wine that is smooth...</td>\n",
       "      <td>Avidagos</td>\n",
       "      <td>87</td>\n",
       "      <td>15.0</td>\n",
       "      <td>Douro</td>\n",
       "      <td>NaN</td>\n",
       "      <td>NaN</td>\n",
       "      <td>Quinta dos Avidagos</td>\n",
       "      <td>Portuguese Red</td>\n",
       "    </tr>\n",
       "    <tr>\n",
       "      <th>2</th>\n",
       "      <td>@paulgwine</td>\n",
       "      <td>US</td>\n",
       "      <td>Rainstorm 2013 Pinot Gris (Willamette Valley)</td>\n",
       "      <td>Tart and snappy, the flavors of lime flesh and...</td>\n",
       "      <td>NaN</td>\n",
       "      <td>87</td>\n",
       "      <td>14.0</td>\n",
       "      <td>Oregon</td>\n",
       "      <td>Willamette Valley</td>\n",
       "      <td>Willamette Valley</td>\n",
       "      <td>Rainstorm</td>\n",
       "      <td>Pinot Gris</td>\n",
       "    </tr>\n",
       "    <tr>\n",
       "      <th>3</th>\n",
       "      <td>NaN</td>\n",
       "      <td>US</td>\n",
       "      <td>St. Julian 2013 Reserve Late Harvest Riesling ...</td>\n",
       "      <td>Pineapple rind, lemon pith and orange blossom ...</td>\n",
       "      <td>Reserve Late Harvest</td>\n",
       "      <td>87</td>\n",
       "      <td>13.0</td>\n",
       "      <td>Michigan</td>\n",
       "      <td>Lake Michigan Shore</td>\n",
       "      <td>NaN</td>\n",
       "      <td>St. Julian</td>\n",
       "      <td>Riesling</td>\n",
       "    </tr>\n",
       "    <tr>\n",
       "      <th>4</th>\n",
       "      <td>@paulgwine</td>\n",
       "      <td>US</td>\n",
       "      <td>Sweet Cheeks 2012 Vintner's Reserve Wild Child...</td>\n",
       "      <td>Much like the regular bottling from 2012, this...</td>\n",
       "      <td>Vintner's Reserve Wild Child Block</td>\n",
       "      <td>87</td>\n",
       "      <td>65.0</td>\n",
       "      <td>Oregon</td>\n",
       "      <td>Willamette Valley</td>\n",
       "      <td>Willamette Valley</td>\n",
       "      <td>Sweet Cheeks</td>\n",
       "      <td>Pinot Noir</td>\n",
       "    </tr>\n",
       "  </tbody>\n",
       "</table>\n",
       "</div>"
      ],
      "text/plain": [
       "      user_name   country                                       review_title  \\\n",
       "0  @kerinokeefe     Italy                  Nicosia 2013 Vulkà Bianco  (Etna)   \n",
       "1    @vossroger  Portugal      Quinta dos Avidagos 2011 Avidagos Red (Douro)   \n",
       "2   @paulgwine         US      Rainstorm 2013 Pinot Gris (Willamette Valley)   \n",
       "3           NaN        US  St. Julian 2013 Reserve Late Harvest Riesling ...   \n",
       "4   @paulgwine         US  Sweet Cheeks 2012 Vintner's Reserve Wild Child...   \n",
       "\n",
       "                                  review_description  \\\n",
       "0  Aromas include tropical fruit, broom, brimston...   \n",
       "1  This is ripe and fruity, a wine that is smooth...   \n",
       "2  Tart and snappy, the flavors of lime flesh and...   \n",
       "3  Pineapple rind, lemon pith and orange blossom ...   \n",
       "4  Much like the regular bottling from 2012, this...   \n",
       "\n",
       "                          designation  points  price           province  \\\n",
       "0                        Vulkà Bianco      87    NaN  Sicily & Sardinia   \n",
       "1                            Avidagos      87   15.0              Douro   \n",
       "2                                 NaN      87   14.0             Oregon   \n",
       "3                Reserve Late Harvest      87   13.0           Michigan   \n",
       "4  Vintner's Reserve Wild Child Block      87   65.0             Oregon   \n",
       "\n",
       "              region_1           region_2               winery         variety  \n",
       "0                 Etna                NaN              Nicosia     White Blend  \n",
       "1                  NaN                NaN  Quinta dos Avidagos  Portuguese Red  \n",
       "2    Willamette Valley  Willamette Valley            Rainstorm      Pinot Gris  \n",
       "3  Lake Michigan Shore                NaN           St. Julian        Riesling  \n",
       "4    Willamette Valley  Willamette Valley         Sweet Cheeks      Pinot Noir  "
      ]
     },
     "execution_count": 3,
     "metadata": {},
     "output_type": "execute_result"
    }
   ],
   "source": [
    "df = pd.read_csv(\"E:\\\\WineData-analytics\\\\OSX_DS_assignment.csv\")\n",
    "df.head()"
   ]
  },
  {
   "cell_type": "markdown",
   "id": "69198f16",
   "metadata": {},
   "source": [
    "<font color=#a83969>Sort the data by the \"points\" column in descending order</font>"
   ]
  },
  {
   "cell_type": "code",
   "execution_count": 4,
   "id": "0ed42ef4",
   "metadata": {},
   "outputs": [],
   "source": [
    "sorted_df = df.sort_values(by=['points'], ascending=False)"
   ]
  },
  {
   "cell_type": "code",
   "execution_count": 5,
   "id": "6bed9add",
   "metadata": {},
   "outputs": [
    {
     "data": {
      "text/html": [
       "<div>\n",
       "<style scoped>\n",
       "    .dataframe tbody tr th:only-of-type {\n",
       "        vertical-align: middle;\n",
       "    }\n",
       "\n",
       "    .dataframe tbody tr th {\n",
       "        vertical-align: top;\n",
       "    }\n",
       "\n",
       "    .dataframe thead th {\n",
       "        text-align: right;\n",
       "    }\n",
       "</style>\n",
       "<table border=\"1\" class=\"dataframe\">\n",
       "  <thead>\n",
       "    <tr style=\"text-align: right;\">\n",
       "      <th></th>\n",
       "      <th>user_name</th>\n",
       "      <th>country</th>\n",
       "      <th>review_title</th>\n",
       "      <th>review_description</th>\n",
       "      <th>designation</th>\n",
       "      <th>points</th>\n",
       "      <th>price</th>\n",
       "      <th>province</th>\n",
       "      <th>region_1</th>\n",
       "      <th>region_2</th>\n",
       "      <th>winery</th>\n",
       "      <th>variety</th>\n",
       "    </tr>\n",
       "  </thead>\n",
       "  <tbody>\n",
       "    <tr>\n",
       "      <th>71199</th>\n",
       "      <td>@vossroger</td>\n",
       "      <td>France</td>\n",
       "      <td>Louis Roederer 2008 Cristal Vintage Brut  (Cha...</td>\n",
       "      <td>This latest incarnation of the famous brand is...</td>\n",
       "      <td>Cristal Vintage Brut</td>\n",
       "      <td>100</td>\n",
       "      <td>250.0</td>\n",
       "      <td>Champagne</td>\n",
       "      <td>Champagne</td>\n",
       "      <td>NaN</td>\n",
       "      <td>Louis Roederer</td>\n",
       "      <td>Champagne Blend</td>\n",
       "    </tr>\n",
       "    <tr>\n",
       "      <th>88816</th>\n",
       "      <td>@vossroger</td>\n",
       "      <td>France</td>\n",
       "      <td>Château Léoville Las Cases 2010  Saint-Julien</td>\n",
       "      <td>A hugely powerful wine, full of dark, brooding...</td>\n",
       "      <td>NaN</td>\n",
       "      <td>100</td>\n",
       "      <td>359.0</td>\n",
       "      <td>Bordeaux</td>\n",
       "      <td>Saint-Julien</td>\n",
       "      <td>NaN</td>\n",
       "      <td>Château Léoville Las Cases</td>\n",
       "      <td>Bordeaux-style Red Blend</td>\n",
       "    </tr>\n",
       "    <tr>\n",
       "      <th>46273</th>\n",
       "      <td>@vossroger</td>\n",
       "      <td>France</td>\n",
       "      <td>Château Léoville Barton 2010  Saint-Julien</td>\n",
       "      <td>This is a magnificently solid wine, initially ...</td>\n",
       "      <td>NaN</td>\n",
       "      <td>100</td>\n",
       "      <td>150.0</td>\n",
       "      <td>Bordeaux</td>\n",
       "      <td>Saint-Julien</td>\n",
       "      <td>NaN</td>\n",
       "      <td>Château Léoville Barton</td>\n",
       "      <td>Bordeaux-style Red Blend</td>\n",
       "    </tr>\n",
       "    <tr>\n",
       "      <th>36344</th>\n",
       "      <td>@kerinokeefe</td>\n",
       "      <td>Italy</td>\n",
       "      <td>Biondi Santi 2010 Riserva  (Brunello di Montal...</td>\n",
       "      <td>This gorgeous, fragrant wine opens with classi...</td>\n",
       "      <td>Riserva</td>\n",
       "      <td>100</td>\n",
       "      <td>550.0</td>\n",
       "      <td>Tuscany</td>\n",
       "      <td>Brunello di Montalcino</td>\n",
       "      <td>NaN</td>\n",
       "      <td>Biondi Santi</td>\n",
       "      <td>Sangiovese</td>\n",
       "    </tr>\n",
       "    <tr>\n",
       "      <th>93757</th>\n",
       "      <td>NaN</td>\n",
       "      <td>US</td>\n",
       "      <td>Verité 2007 La Muse Red (Sonoma County)</td>\n",
       "      <td>This wine dazzles with perfection. Sourced fro...</td>\n",
       "      <td>La Muse</td>\n",
       "      <td>100</td>\n",
       "      <td>450.0</td>\n",
       "      <td>California</td>\n",
       "      <td>Sonoma County</td>\n",
       "      <td>Sonoma</td>\n",
       "      <td>Verité</td>\n",
       "      <td>Bordeaux-style Red Blend</td>\n",
       "    </tr>\n",
       "    <tr>\n",
       "      <th>90483</th>\n",
       "      <td>@paulgwine</td>\n",
       "      <td>US</td>\n",
       "      <td>Charles Smith 2006 Royal City Syrah (Columbia ...</td>\n",
       "      <td>In 2005 Charles Smith introduced three high-en...</td>\n",
       "      <td>Royal City</td>\n",
       "      <td>100</td>\n",
       "      <td>80.0</td>\n",
       "      <td>Washington</td>\n",
       "      <td>Columbia Valley (WA)</td>\n",
       "      <td>Columbia Valley</td>\n",
       "      <td>Charles Smith</td>\n",
       "      <td>Syrah</td>\n",
       "    </tr>\n",
       "    <tr>\n",
       "      <th>36361</th>\n",
       "      <td>NaN</td>\n",
       "      <td>US</td>\n",
       "      <td>Cardinale 2006 Cabernet Sauvignon (Napa Valley)</td>\n",
       "      <td>Tasted in a flight of great and famous Napa wi...</td>\n",
       "      <td>NaN</td>\n",
       "      <td>100</td>\n",
       "      <td>200.0</td>\n",
       "      <td>California</td>\n",
       "      <td>Napa Valley</td>\n",
       "      <td>Napa</td>\n",
       "      <td>Cardinale</td>\n",
       "      <td>Cabernet Sauvignon</td>\n",
       "    </tr>\n",
       "    <tr>\n",
       "      <th>88815</th>\n",
       "      <td>@vossroger</td>\n",
       "      <td>France</td>\n",
       "      <td>Château Cheval Blanc 2010  Saint-Émilion</td>\n",
       "      <td>This is the finest Cheval Blanc for many years...</td>\n",
       "      <td>NaN</td>\n",
       "      <td>100</td>\n",
       "      <td>1500.0</td>\n",
       "      <td>Bordeaux</td>\n",
       "      <td>Saint-Émilion</td>\n",
       "      <td>NaN</td>\n",
       "      <td>Château Cheval Blanc</td>\n",
       "      <td>Bordeaux-style Red Blend</td>\n",
       "    </tr>\n",
       "    <tr>\n",
       "      <th>88814</th>\n",
       "      <td>@vossroger</td>\n",
       "      <td>France</td>\n",
       "      <td>Château Lafite Rothschild 2010  Pauillac</td>\n",
       "      <td>Almost black in color, this stunning wine is g...</td>\n",
       "      <td>NaN</td>\n",
       "      <td>100</td>\n",
       "      <td>1500.0</td>\n",
       "      <td>Bordeaux</td>\n",
       "      <td>Pauillac</td>\n",
       "      <td>NaN</td>\n",
       "      <td>Château Lafite Rothschild</td>\n",
       "      <td>Bordeaux-style Red Blend</td>\n",
       "    </tr>\n",
       "    <tr>\n",
       "      <th>98183</th>\n",
       "      <td>@paulgwine</td>\n",
       "      <td>US</td>\n",
       "      <td>Cayuse 2008 Bionic Frog Syrah (Walla Walla Val...</td>\n",
       "      <td>Initially a rather subdued Frog; as if it has ...</td>\n",
       "      <td>Bionic Frog</td>\n",
       "      <td>100</td>\n",
       "      <td>80.0</td>\n",
       "      <td>Washington</td>\n",
       "      <td>Walla Walla Valley (WA)</td>\n",
       "      <td>Columbia Valley</td>\n",
       "      <td>Cayuse</td>\n",
       "      <td>Syrah</td>\n",
       "    </tr>\n",
       "    <tr>\n",
       "      <th>28985</th>\n",
       "      <td>@vossroger</td>\n",
       "      <td>France</td>\n",
       "      <td>Krug 2002 Brut  (Champagne)</td>\n",
       "      <td>This is a fabulous wine from the greatest Cham...</td>\n",
       "      <td>Brut</td>\n",
       "      <td>100</td>\n",
       "      <td>259.0</td>\n",
       "      <td>Champagne</td>\n",
       "      <td>Champagne</td>\n",
       "      <td>NaN</td>\n",
       "      <td>Krug</td>\n",
       "      <td>Champagne Blend</td>\n",
       "    </tr>\n",
       "    <tr>\n",
       "      <th>33528</th>\n",
       "      <td>@vossroger</td>\n",
       "      <td>Portugal</td>\n",
       "      <td>Casa Ferreirinha 2008 Barca-Velha Red (Douro)</td>\n",
       "      <td>This is the latest release of what has long be...</td>\n",
       "      <td>Barca-Velha</td>\n",
       "      <td>100</td>\n",
       "      <td>450.0</td>\n",
       "      <td>Douro</td>\n",
       "      <td>NaN</td>\n",
       "      <td>NaN</td>\n",
       "      <td>Casa Ferreirinha</td>\n",
       "      <td>Portuguese Red</td>\n",
       "    </tr>\n",
       "    <tr>\n",
       "      <th>31233</th>\n",
       "      <td>NaN</td>\n",
       "      <td>Italy</td>\n",
       "      <td>Tenuta dell'Ornellaia 2007 Masseto Merlot (Tos...</td>\n",
       "      <td>A perfect wine from a classic vintage, the 200...</td>\n",
       "      <td>Masseto</td>\n",
       "      <td>100</td>\n",
       "      <td>460.0</td>\n",
       "      <td>Tuscany</td>\n",
       "      <td>Toscana</td>\n",
       "      <td>NaN</td>\n",
       "      <td>Tenuta dell'Ornellaia</td>\n",
       "      <td>Merlot</td>\n",
       "    </tr>\n",
       "    <tr>\n",
       "      <th>71200</th>\n",
       "      <td>@vossroger</td>\n",
       "      <td>France</td>\n",
       "      <td>Salon 2006 Le Mesnil Blanc de Blancs Brut Char...</td>\n",
       "      <td>This new release from a great vintage for Char...</td>\n",
       "      <td>Le Mesnil Blanc de Blancs Brut</td>\n",
       "      <td>100</td>\n",
       "      <td>617.0</td>\n",
       "      <td>Champagne</td>\n",
       "      <td>Champagne</td>\n",
       "      <td>NaN</td>\n",
       "      <td>Salon</td>\n",
       "      <td>Chardonnay</td>\n",
       "    </tr>\n",
       "    <tr>\n",
       "      <th>97694</th>\n",
       "      <td>@vossroger</td>\n",
       "      <td>France</td>\n",
       "      <td>Château Haut-Brion 2014  Pessac-Léognan</td>\n",
       "      <td>Full of ripe fruit, opulent and concentrated, ...</td>\n",
       "      <td>NaN</td>\n",
       "      <td>100</td>\n",
       "      <td>848.0</td>\n",
       "      <td>Bordeaux</td>\n",
       "      <td>Pessac-Léognan</td>\n",
       "      <td>NaN</td>\n",
       "      <td>Château Haut-Brion</td>\n",
       "      <td>Bordeaux-style White Blend</td>\n",
       "    </tr>\n",
       "    <tr>\n",
       "      <th>36173</th>\n",
       "      <td>@kerinokeefe</td>\n",
       "      <td>Italy</td>\n",
       "      <td>Mascarello Giuseppe e Figlio 2010 Monprivato  ...</td>\n",
       "      <td>Elegant and complex, this gorgeous wine is all...</td>\n",
       "      <td>Monprivato</td>\n",
       "      <td>99</td>\n",
       "      <td>175.0</td>\n",
       "      <td>Piedmont</td>\n",
       "      <td>Barolo</td>\n",
       "      <td>NaN</td>\n",
       "      <td>Mascarello Giuseppe e Figlio</td>\n",
       "      <td>Nebbiolo</td>\n",
       "    </tr>\n",
       "    <tr>\n",
       "      <th>1206</th>\n",
       "      <td>NaN</td>\n",
       "      <td>US</td>\n",
       "      <td>Williams Selyem 2009 Precious Mountain Vineyar...</td>\n",
       "      <td>A stupendous Pinot Noir, showing how beautiful...</td>\n",
       "      <td>Precious Mountain Vineyard</td>\n",
       "      <td>99</td>\n",
       "      <td>94.0</td>\n",
       "      <td>California</td>\n",
       "      <td>Sonoma Coast</td>\n",
       "      <td>Sonoma</td>\n",
       "      <td>Williams Selyem</td>\n",
       "      <td>Pinot Noir</td>\n",
       "    </tr>\n",
       "    <tr>\n",
       "      <th>96824</th>\n",
       "      <td>NaN</td>\n",
       "      <td>US</td>\n",
       "      <td>Colgin 2008 IX Estate Red (Napa Valley)</td>\n",
       "      <td>This is an absolutely beautiful wine to drink ...</td>\n",
       "      <td>IX Estate</td>\n",
       "      <td>99</td>\n",
       "      <td>290.0</td>\n",
       "      <td>California</td>\n",
       "      <td>Napa Valley</td>\n",
       "      <td>Napa</td>\n",
       "      <td>Colgin</td>\n",
       "      <td>Red Blend</td>\n",
       "    </tr>\n",
       "    <tr>\n",
       "      <th>96825</th>\n",
       "      <td>NaN</td>\n",
       "      <td>US</td>\n",
       "      <td>David Arthur 2009 Elevation 1147 Estate Cabern...</td>\n",
       "      <td>There are incredible aromatics on this Caberne...</td>\n",
       "      <td>Elevation 1147 Estate</td>\n",
       "      <td>99</td>\n",
       "      <td>150.0</td>\n",
       "      <td>California</td>\n",
       "      <td>Napa Valley</td>\n",
       "      <td>Napa</td>\n",
       "      <td>David Arthur</td>\n",
       "      <td>Cabernet Sauvignon</td>\n",
       "    </tr>\n",
       "    <tr>\n",
       "      <th>93758</th>\n",
       "      <td>NaN</td>\n",
       "      <td>US</td>\n",
       "      <td>Failla 2010 Estate Vineyard Chardonnay (Sonoma...</td>\n",
       "      <td>Shows classic, full-throttle notes of tropical...</td>\n",
       "      <td>Estate Vineyard</td>\n",
       "      <td>99</td>\n",
       "      <td>44.0</td>\n",
       "      <td>California</td>\n",
       "      <td>Sonoma Coast</td>\n",
       "      <td>Sonoma</td>\n",
       "      <td>Failla</td>\n",
       "      <td>Chardonnay</td>\n",
       "    </tr>\n",
       "  </tbody>\n",
       "</table>\n",
       "</div>"
      ],
      "text/plain": [
       "          user_name   country  \\\n",
       "71199    @vossroger    France   \n",
       "88816    @vossroger    France   \n",
       "46273    @vossroger    France   \n",
       "36344  @kerinokeefe     Italy   \n",
       "93757           NaN        US   \n",
       "90483   @paulgwine         US   \n",
       "36361           NaN        US   \n",
       "88815    @vossroger    France   \n",
       "88814    @vossroger    France   \n",
       "98183   @paulgwine         US   \n",
       "28985    @vossroger    France   \n",
       "33528    @vossroger  Portugal   \n",
       "31233           NaN     Italy   \n",
       "71200    @vossroger    France   \n",
       "97694    @vossroger    France   \n",
       "36173  @kerinokeefe     Italy   \n",
       "1206            NaN        US   \n",
       "96824           NaN        US   \n",
       "96825           NaN        US   \n",
       "93758           NaN        US   \n",
       "\n",
       "                                            review_title  \\\n",
       "71199  Louis Roederer 2008 Cristal Vintage Brut  (Cha...   \n",
       "88816      Château Léoville Las Cases 2010  Saint-Julien   \n",
       "46273         Château Léoville Barton 2010  Saint-Julien   \n",
       "36344  Biondi Santi 2010 Riserva  (Brunello di Montal...   \n",
       "93757            Verité 2007 La Muse Red (Sonoma County)   \n",
       "90483  Charles Smith 2006 Royal City Syrah (Columbia ...   \n",
       "36361    Cardinale 2006 Cabernet Sauvignon (Napa Valley)   \n",
       "88815           Château Cheval Blanc 2010  Saint-Émilion   \n",
       "88814           Château Lafite Rothschild 2010  Pauillac   \n",
       "98183  Cayuse 2008 Bionic Frog Syrah (Walla Walla Val...   \n",
       "28985                        Krug 2002 Brut  (Champagne)   \n",
       "33528      Casa Ferreirinha 2008 Barca-Velha Red (Douro)   \n",
       "31233  Tenuta dell'Ornellaia 2007 Masseto Merlot (Tos...   \n",
       "71200  Salon 2006 Le Mesnil Blanc de Blancs Brut Char...   \n",
       "97694            Château Haut-Brion 2014  Pessac-Léognan   \n",
       "36173  Mascarello Giuseppe e Figlio 2010 Monprivato  ...   \n",
       "1206   Williams Selyem 2009 Precious Mountain Vineyar...   \n",
       "96824            Colgin 2008 IX Estate Red (Napa Valley)   \n",
       "96825  David Arthur 2009 Elevation 1147 Estate Cabern...   \n",
       "93758  Failla 2010 Estate Vineyard Chardonnay (Sonoma...   \n",
       "\n",
       "                                      review_description  \\\n",
       "71199  This latest incarnation of the famous brand is...   \n",
       "88816  A hugely powerful wine, full of dark, brooding...   \n",
       "46273  This is a magnificently solid wine, initially ...   \n",
       "36344  This gorgeous, fragrant wine opens with classi...   \n",
       "93757  This wine dazzles with perfection. Sourced fro...   \n",
       "90483  In 2005 Charles Smith introduced three high-en...   \n",
       "36361  Tasted in a flight of great and famous Napa wi...   \n",
       "88815  This is the finest Cheval Blanc for many years...   \n",
       "88814  Almost black in color, this stunning wine is g...   \n",
       "98183  Initially a rather subdued Frog; as if it has ...   \n",
       "28985  This is a fabulous wine from the greatest Cham...   \n",
       "33528  This is the latest release of what has long be...   \n",
       "31233  A perfect wine from a classic vintage, the 200...   \n",
       "71200  This new release from a great vintage for Char...   \n",
       "97694  Full of ripe fruit, opulent and concentrated, ...   \n",
       "36173  Elegant and complex, this gorgeous wine is all...   \n",
       "1206   A stupendous Pinot Noir, showing how beautiful...   \n",
       "96824  This is an absolutely beautiful wine to drink ...   \n",
       "96825  There are incredible aromatics on this Caberne...   \n",
       "93758  Shows classic, full-throttle notes of tropical...   \n",
       "\n",
       "                          designation  points   price    province  \\\n",
       "71199            Cristal Vintage Brut     100   250.0   Champagne   \n",
       "88816                             NaN     100   359.0    Bordeaux   \n",
       "46273                             NaN     100   150.0    Bordeaux   \n",
       "36344                         Riserva     100   550.0     Tuscany   \n",
       "93757                         La Muse     100   450.0  California   \n",
       "90483                      Royal City     100    80.0  Washington   \n",
       "36361                             NaN     100   200.0  California   \n",
       "88815                             NaN     100  1500.0    Bordeaux   \n",
       "88814                             NaN     100  1500.0    Bordeaux   \n",
       "98183                     Bionic Frog     100    80.0  Washington   \n",
       "28985                            Brut     100   259.0   Champagne   \n",
       "33528                     Barca-Velha     100   450.0       Douro   \n",
       "31233                         Masseto     100   460.0     Tuscany   \n",
       "71200  Le Mesnil Blanc de Blancs Brut     100   617.0   Champagne   \n",
       "97694                             NaN     100   848.0    Bordeaux   \n",
       "36173                      Monprivato      99   175.0    Piedmont   \n",
       "1206       Precious Mountain Vineyard      99    94.0  California   \n",
       "96824                       IX Estate      99   290.0  California   \n",
       "96825           Elevation 1147 Estate      99   150.0  California   \n",
       "93758                 Estate Vineyard      99    44.0  California   \n",
       "\n",
       "                      region_1         region_2                        winery  \\\n",
       "71199                Champagne              NaN                Louis Roederer   \n",
       "88816             Saint-Julien              NaN    Château Léoville Las Cases   \n",
       "46273             Saint-Julien              NaN       Château Léoville Barton   \n",
       "36344   Brunello di Montalcino              NaN                  Biondi Santi   \n",
       "93757            Sonoma County           Sonoma                        Verité   \n",
       "90483     Columbia Valley (WA)  Columbia Valley                 Charles Smith   \n",
       "36361              Napa Valley             Napa                     Cardinale   \n",
       "88815            Saint-Émilion              NaN          Château Cheval Blanc   \n",
       "88814                 Pauillac              NaN     Château Lafite Rothschild   \n",
       "98183  Walla Walla Valley (WA)  Columbia Valley                        Cayuse   \n",
       "28985                Champagne              NaN                          Krug   \n",
       "33528                      NaN              NaN              Casa Ferreirinha   \n",
       "31233                  Toscana              NaN         Tenuta dell'Ornellaia   \n",
       "71200                Champagne              NaN                         Salon   \n",
       "97694           Pessac-Léognan              NaN            Château Haut-Brion   \n",
       "36173                   Barolo              NaN  Mascarello Giuseppe e Figlio   \n",
       "1206              Sonoma Coast           Sonoma               Williams Selyem   \n",
       "96824              Napa Valley             Napa                        Colgin   \n",
       "96825              Napa Valley             Napa                  David Arthur   \n",
       "93758             Sonoma Coast           Sonoma                        Failla   \n",
       "\n",
       "                          variety  \n",
       "71199             Champagne Blend  \n",
       "88816    Bordeaux-style Red Blend  \n",
       "46273    Bordeaux-style Red Blend  \n",
       "36344                  Sangiovese  \n",
       "93757    Bordeaux-style Red Blend  \n",
       "90483                       Syrah  \n",
       "36361          Cabernet Sauvignon  \n",
       "88815    Bordeaux-style Red Blend  \n",
       "88814    Bordeaux-style Red Blend  \n",
       "98183                       Syrah  \n",
       "28985             Champagne Blend  \n",
       "33528              Portuguese Red  \n",
       "31233                      Merlot  \n",
       "71200                  Chardonnay  \n",
       "97694  Bordeaux-style White Blend  \n",
       "36173                    Nebbiolo  \n",
       "1206                   Pinot Noir  \n",
       "96824                   Red Blend  \n",
       "96825          Cabernet Sauvignon  \n",
       "93758                  Chardonnay  "
      ]
     },
     "execution_count": 5,
     "metadata": {},
     "output_type": "execute_result"
    }
   ],
   "source": [
    "sorted_df.head(20)"
   ]
  },
  {
   "cell_type": "markdown",
   "id": "762d33d7",
   "metadata": {},
   "source": [
    "<font color=#a83969>It seems that the most popular wine varieties, based on points, are:</font>\n",
    "\n",
    "1. Champagne Blend\n",
    "2. Bordeaux-style Red Blend\n",
    "3. Sangiovese\n",
    "4. Syrah\n",
    "5. Cabernet Sauvignon\n",
    "6. Portuguese Red\n",
    "7. Merlot\n",
    "8. Chardonnay\n",
    "9. Bordeaux-style White Blend\n",
    "<br><font color=#a83969>To take action on this, we could consider adjusting our product offerings to include more of these popular varieties, or focus our marketing efforts on promoting them to customers. </font>"
   ]
  },
  {
   "cell_type": "markdown",
   "id": "acf3066b",
   "metadata": {},
   "source": [
    "<font color=#a83969> Creating a scatter plot of price vs. points"
   ]
  },
  {
   "cell_type": "code",
   "execution_count": 6,
   "id": "e4f0b277",
   "metadata": {},
   "outputs": [
    {
     "data": {
      "text/plain": [
       "<matplotlib.collections.PathCollection at 0x1a6995a75e0>"
      ]
     },
     "execution_count": 6,
     "metadata": {},
     "output_type": "execute_result"
    },
    {
     "data": {
      "image/png": "[encoded data removed]",
      "text/plain": [
       "<Figure size 640x480 with 1 Axes>"
      ]
     },
     "metadata": {},
     "output_type": "display_data"
    }
   ],
   "source": [
    "plt.title('Price vs. Rating')\n",
    "plt.xlabel('Price')\n",
    "plt.ylabel('Rating')\n",
    "plt.scatter(df['price'], df['points'], color='#A32E61')"
   ]
  },
  {
   "cell_type": "markdown",
   "id": "73bf2039",
   "metadata": {},
   "source": [
    "<font color=#a83969>The scatter plot shows that wines in the lower price range have a wide range of ratings, whereas the medium price range has higher ratings.This suggests that there may be opportunities to adjust pricing strategies to better match customer preferences. For example, we could consider increasing prices for highly rated wines that are in high demand, or lowering prices for wines that are not as popular to increase their sales volume.</font> "
   ]
  },
  {
   "cell_type": "code",
   "execution_count": 30,
   "id": "c1b11e4a",
   "metadata": {},
   "outputs": [
    {
     "name": "stdout",
     "output_type": "stream",
     "text": [
      "Correlation coefficient: 0.41565116364271776\n"
     ]
    }
   ],
   "source": [
    "corr_coeff = df['price'].corr(df['points'])\n",
    "print('Correlation coefficient:', corr_coeff)"
   ]
  },
  {
   "cell_type": "markdown",
   "id": "208ab61a",
   "metadata": {},
   "source": [
    "<font color=#a83969> The correlation coefficient measures the strength and direction of the linear relationship between two variables, with values ranging from -1 to +1.\n",
    " A correlation coefficient of 0.4156 between price and rating indicates a positive correlation between these two variables, but the correlation is not very strong.\n",
    " Therefore, this analysis suggests that while there may be some relationship between the price of a bottle of wine and its rating, it is not a very strong one. As a business owner, we should be cautious about assuming that customers are willing to pay more for higher-rated wines</font>"
   ]
  },
  {
   "cell_type": "code",
   "execution_count": 31,
   "id": "1cade1cc",
   "metadata": {},
   "outputs": [
    {
     "data": {
      "text/plain": [
       "Pinot Noir                  13272\n",
       "Chardonnay                  11753\n",
       "Cabernet Sauvignon           9472\n",
       "Red Blend                    8946\n",
       "Bordeaux-style Red Blend     6915\n",
       "Name: variety, dtype: int64"
      ]
     },
     "execution_count": 31,
     "metadata": {},
     "output_type": "execute_result"
    }
   ],
   "source": [
    "variety_counts = df['variety'].value_counts()\n",
    "variety_counts.head(5)"
   ]
  },
  {
   "cell_type": "markdown",
   "id": "ecf80646",
   "metadata": {},
   "source": [
    "<font color=#a83969>These are the most used wine varieties</font>"
   ]
  },
  {
   "cell_type": "code",
   "execution_count": 32,
   "id": "32c8d491",
   "metadata": {},
   "outputs": [
    {
     "name": "stdout",
     "output_type": "stream",
     "text": [
      "Requirement already satisfied: nltk in c:\\users\\saran\\anaconda3\\lib\\site-packages (3.7)\n",
      "Requirement already satisfied: click in c:\\users\\saran\\anaconda3\\lib\\site-packages (from nltk) (8.0.4)\n",
      "Requirement already satisfied: joblib in c:\\users\\saran\\anaconda3\\lib\\site-packages (from nltk) (1.1.0)\n",
      "Requirement already satisfied: regex>=2021.8.3 in c:\\users\\saran\\anaconda3\\lib\\site-packages (from nltk) (2022.7.9)\n",
      "Requirement already satisfied: tqdm in c:\\users\\saran\\anaconda3\\lib\\site-packages (from nltk) (4.64.1)\n",
      "Requirement already satisfied: colorama in c:\\users\\saran\\anaconda3\\lib\\site-packages (from click->nltk) (0.4.5)\n",
      "Note: you may need to restart the kernel to use updated packages.\n"
     ]
    }
   ],
   "source": [
    "pip install nltk"
   ]
  },
  {
   "cell_type": "code",
   "execution_count": 37,
   "id": "95937b81",
   "metadata": {},
   "outputs": [
    {
     "name": "stderr",
     "output_type": "stream",
     "text": [
      "[nltk_data] Downloading package stopwords to\n",
      "[nltk_data]     C:\\Users\\saran\\AppData\\Roaming\\nltk_data...\n",
      "[nltk_data]   Unzipping corpora\\stopwords.zip.\n"
     ]
    },
    {
     "data": {
      "text/plain": [
       "True"
      ]
     },
     "execution_count": 37,
     "metadata": {},
     "output_type": "execute_result"
    }
   ],
   "source": [
    "nltk.download('stopwords')"
   ]
  },
  {
   "cell_type": "code",
   "execution_count": 38,
   "id": "649224a1",
   "metadata": {},
   "outputs": [],
   "source": [
    "import string\n",
    "from collections import Counter\n",
    "import nltk\n",
    "from nltk.corpus import stopwords"
   ]
  },
  {
   "cell_type": "markdown",
   "id": "c06374de",
   "metadata": {},
   "source": [
    "<font color=#a83969>Concatenate all reviews into a single string.\n",
    "Split the string into a list of individual words</font>"
   ]
  },
  {
   "cell_type": "code",
   "execution_count": 39,
   "id": "94928485",
   "metadata": {},
   "outputs": [],
   "source": [
    "reviews = ' '.join(df['review_description'].tolist())\n",
    "words = reviews.split()"
   ]
  },
  {
   "cell_type": "code",
   "execution_count": 40,
   "id": "ff4724c6",
   "metadata": {},
   "outputs": [],
   "source": [
    "words = [word.translate(str.maketrans('', '', string.punctuation)) for word in words]"
   ]
  },
  {
   "cell_type": "markdown",
   "id": "fac8f807",
   "metadata": {},
   "source": [
    "<font color=#a83969>Remove stop words from the words. These are common words used in english like \"and\", \"the\"</font>"
   ]
  },
  {
   "cell_type": "code",
   "execution_count": 41,
   "id": "a8b0513a",
   "metadata": {},
   "outputs": [],
   "source": [
    "stop_words = set(stopwords.words('english'))\n",
    "words = [word for word in words if word.lower() not in stop_words]"
   ]
  },
  {
   "cell_type": "code",
   "execution_count": 43,
   "id": "aa5ec8f6",
   "metadata": {},
   "outputs": [
    {
     "data": {
      "text/plain": [
       "[('wine', 63462),\n",
       " ('flavors', 48577),\n",
       " ('fruit', 35265),\n",
       " ('palate', 28534),\n",
       " ('acidity', 27273),\n",
       " ('finish', 26583),\n",
       " ('tannins', 25614),\n",
       " ('aromas', 25248),\n",
       " ('cherry', 22187),\n",
       " ('ripe', 20439),\n",
       " ('black', 19968),\n",
       " ('Drink', 16676),\n",
       " ('red', 14572),\n",
       " ('spice', 14263),\n",
       " ('notes', 14247),\n",
       " ('oak', 13600),\n",
       " ('rich', 13265),\n",
       " ('nose', 12918),\n",
       " ('dry', 12016),\n",
       " ('berry', 11718),\n",
       " ('fresh', 11552),\n",
       " ('fruits', 11418),\n",
       " ('blend', 11148),\n",
       " ('plum', 10613),\n",
       " ('texture', 10231),\n",
       " ('soft', 9782),\n",
       " ('Cabernet', 9753),\n",
       " ('blackberry', 9373),\n",
       " ('apple', 9204),\n",
       " ('crisp', 9160)]"
      ]
     },
     "execution_count": 43,
     "metadata": {},
     "output_type": "execute_result"
    }
   ],
   "source": [
    "word_counts = Counter(words)\n",
    "word_counts.most_common(30)"
   ]
  },
  {
   "cell_type": "markdown",
   "id": "28c75183",
   "metadata": {},
   "source": [
    "<font color=#a83969>Overall, this analysis provides some insights into the types of flavors and characteristics that customers are most interested in when it comes to wine.</font>"
   ]
  },
  {
   "cell_type": "markdown",
   "id": "92603570",
   "metadata": {},
   "source": [
    "<font color=#a83969>Now using natural language processing techniques to extract additional insights from the text, such as sentiment analysis.</font>"
   ]
  },
  {
   "cell_type": "code",
   "execution_count": 45,
   "id": "84c6d0de",
   "metadata": {},
   "outputs": [
    {
     "name": "stdout",
     "output_type": "stream",
     "text": [
      "Collecting textblob\n",
      "  Downloading textblob-0.17.1-py2.py3-none-any.whl (636 kB)\n",
      "     -------------------------------------- 636.8/636.8 kB 8.0 MB/s eta 0:00:00\n",
      "Requirement already satisfied: nltk>=3.1 in c:\\users\\saran\\anaconda3\\lib\\site-packages (from textblob) (3.7)\n",
      "Requirement already satisfied: regex>=2021.8.3 in c:\\users\\saran\\anaconda3\\lib\\site-packages (from nltk>=3.1->textblob) (2022.7.9)\n",
      "Requirement already satisfied: click in c:\\users\\saran\\anaconda3\\lib\\site-packages (from nltk>=3.1->textblob) (8.0.4)\n",
      "Requirement already satisfied: tqdm in c:\\users\\saran\\anaconda3\\lib\\site-packages (from nltk>=3.1->textblob) (4.64.1)\n",
      "Requirement already satisfied: joblib in c:\\users\\saran\\anaconda3\\lib\\site-packages (from nltk>=3.1->textblob) (1.1.0)\n",
      "Requirement already satisfied: colorama in c:\\users\\saran\\anaconda3\\lib\\site-packages (from click->nltk>=3.1->textblob) (0.4.5)\n",
      "Installing collected packages: textblob\n",
      "Successfully installed textblob-0.17.1\n",
      "Note: you may need to restart the kernel to use updated packages.\n"
     ]
    }
   ],
   "source": [
    "pip install textblob"
   ]
  },
  {
   "cell_type": "code",
   "execution_count": 46,
   "id": "9b67a596",
   "metadata": {},
   "outputs": [],
   "source": [
    "from textblob import TextBlob"
   ]
  },
  {
   "cell_type": "code",
   "execution_count": 47,
   "id": "9996263c",
   "metadata": {},
   "outputs": [],
   "source": [
    "def get_review_sentiment(review):\n",
    "    blob = TextBlob(review)\n",
    "    sentiment = blob.sentiment.polarity\n",
    "    return sentiment"
   ]
  },
  {
   "cell_type": "code",
   "execution_count": 48,
   "id": "8fc19e04",
   "metadata": {},
   "outputs": [],
   "source": [
    "df['sentiment'] = df['review_description'].apply(get_review_sentiment)"
   ]
  },
  {
   "cell_type": "code",
   "execution_count": 49,
   "id": "c09f2bcc",
   "metadata": {},
   "outputs": [
    {
     "name": "stdout",
     "output_type": "stream",
     "text": [
      "Average sentiment polarity: 0.15713491614502303\n"
     ]
    }
   ],
   "source": [
    "print('Average sentiment polarity:', df['sentiment'].mean())"
   ]
  },
  {
   "cell_type": "markdown",
   "id": "28cd7250",
   "metadata": {},
   "source": [
    "<font color=#a83969>The sentiment polarity score ranges from -1 to 1, where -1 means a completely negative sentiment and 1 means a completely positive sentiment. A score of 0 means a neutral sentiment.</font>\n",
    "\n",
    "<font color=#a83969>In your case, the average sentiment polarity score of 0.15713 means that the overall sentiment of the wine reviews is slightly positive.We can use sentiment analysis on a regular basis to track changes in customer sentiment and make necessary adjustments to our product and marketing strategies.</font>"
   ]
  },
  {
   "cell_type": "markdown",
   "id": "7cd093f1",
   "metadata": {},
   "source": [
    "<font color=#a83969>Combine the \"region_1\" and \"region_2\" columns into a single \"region\" column</font>"
   ]
  },
  {
   "cell_type": "code",
   "execution_count": 50,
   "id": "b64dac67",
   "metadata": {},
   "outputs": [],
   "source": [
    "df['region'] = df['region_1'].fillna('') + ', ' + df['region_2'].fillna('')"
   ]
  },
  {
   "cell_type": "markdown",
   "id": "e7a3fdd3",
   "metadata": {},
   "source": [
    "<font color=#a83969>Count the number of occurrences of each region and sort them in descending order</font>"
   ]
  },
  {
   "cell_type": "code",
   "execution_count": 54,
   "id": "a480bc5a",
   "metadata": {},
   "outputs": [
    {
     "data": {
      "text/plain": [
       ",                                        16068\n",
       "Napa Valley, Napa                         4158\n",
       "Columbia Valley (WA), Columbia Valley     3710\n",
       "Russian River Valley, Sonoma              2952\n",
       "California, California Other              2368\n",
       "Mendoza,                                  1967\n",
       "Willamette Valley, Willamette Valley      1909\n",
       "Alsace,                                   1834\n",
       "Paso Robles, Central Coast                1747\n",
       "Barolo,                                   1599\n",
       "Champagne,                                1589\n",
       "Name: region, dtype: int64"
      ]
     },
     "execution_count": 54,
     "metadata": {},
     "output_type": "execute_result"
    }
   ],
   "source": [
    "region_counts = df['region'].value_counts().sort_values(ascending=False)\n",
    "region_counts.head(11)"
   ]
  },
  {
   "cell_type": "markdown",
   "id": "5a33afb6",
   "metadata": {},
   "source": [
    "<font color=#a83969>The , at the top of the result could indicate that there are some missing values in the \"region_1\" and/or \"region_2\" columns of the dataset.</font>\n",
    "<br>\n",
    "<font color=#a83969>By analyzing the top regions, you can adjust your product offerings to feature wines from these regions and cater to customer preferences. Additionally, you can use this information to inform marketing strategies and target customers interested in wines from these popular regions.</font>"
   ]
  },
  {
   "cell_type": "markdown",
   "id": "7ce17301",
   "metadata": {},
   "source": [
    "<font color=#a83969>This is to confirm that it represents null columns</font>"
   ]
  },
  {
   "cell_type": "code",
   "execution_count": 55,
   "id": "d111c1e1",
   "metadata": {
    "scrolled": true
   },
   "outputs": [
    {
     "name": "stdout",
     "output_type": "stream",
     "text": [
      "region_1    16068\n",
      "region_2    58459\n",
      "dtype: int64\n"
     ]
    }
   ],
   "source": [
    "print(df[['region_1', 'region_2']].isnull().sum())"
   ]
  },
  {
   "cell_type": "markdown",
   "id": "f1d858e0",
   "metadata": {},
   "source": [
    "<font color=#a83969>We will use the KMeans clustering algorithm to cluster the wines based on their features.</font>"
   ]
  },
  {
   "cell_type": "code",
   "execution_count": 56,
   "id": "4bb7bf91",
   "metadata": {},
   "outputs": [],
   "source": [
    "from sklearn.cluster import KMeans\n",
    "from sklearn.preprocessing import StandardScaler"
   ]
  },
  {
   "cell_type": "markdown",
   "id": "d5677d96",
   "metadata": {},
   "source": [
    "<font color=#a83969>Preprocess the data and extract relevant features</font>"
   ]
  },
  {
   "cell_type": "code",
   "execution_count": 62,
   "id": "572a5525",
   "metadata": {},
   "outputs": [],
   "source": [
    "df = df.dropna(subset=['price', 'points'])\n",
    "df = df.reset_index(drop=True)"
   ]
  },
  {
   "cell_type": "code",
   "execution_count": 63,
   "id": "01fc3221",
   "metadata": {},
   "outputs": [],
   "source": [
    "X = df[['points', 'price']]"
   ]
  },
  {
   "cell_type": "code",
   "execution_count": 64,
   "id": "e1ee8682",
   "metadata": {},
   "outputs": [],
   "source": [
    "scaler = StandardScaler()\n",
    "X_scaled = scaler.fit_transform(X)"
   ]
  },
  {
   "cell_type": "markdown",
   "id": "2afdf030",
   "metadata": {},
   "source": [
    "<font color=#a83969>Cluster the wines based on their features</font>"
   ]
  },
  {
   "cell_type": "code",
   "execution_count": 65,
   "id": "304a82b0",
   "metadata": {},
   "outputs": [
    {
     "data": {
      "text/plain": [
       "KMeans(n_clusters=3, random_state=42)"
      ]
     },
     "execution_count": 65,
     "metadata": {},
     "output_type": "execute_result"
    }
   ],
   "source": [
    "kmeans = KMeans(n_clusters=3, random_state=42)\n",
    "kmeans.fit(X_scaled)"
   ]
  },
  {
   "cell_type": "code",
   "execution_count": 66,
   "id": "c65957fe",
   "metadata": {},
   "outputs": [],
   "source": [
    "df['cluster'] = kmeans.labels_"
   ]
  },
  {
   "cell_type": "code",
   "execution_count": 68,
   "id": "0ac74cda",
   "metadata": {
    "scrolled": true
   },
   "outputs": [
    {
     "name": "stdout",
     "output_type": "stream",
     "text": [
      "0    53911\n",
      "1    41899\n",
      "2      549\n",
      "Name: cluster, dtype: int64\n"
     ]
    }
   ],
   "source": [
    "print(df['cluster'].value_counts())"
   ]
  },
  {
   "cell_type": "markdown",
   "id": "3c444381",
   "metadata": {},
   "source": [
    "<font color=#a83969>This means that the algorithm has clustered the wines into three groups, labeled as 0, 1, and 2. The numbers next to each group indicate the number of wines that were assigned to that group. In this case, the majority of the wines (53,911) were assigned to group 0, a smaller number (41,899) were assigned to group 1, and only a few wines (549) were assigned to group 2. </font>"
   ]
  },
  {
   "cell_type": "markdown",
   "id": "afc17c70",
   "metadata": {},
   "source": [
    "<font color=#a83969>In conclusion, these insights can help us make data-driven decisions to optimize our pricing, product, and marketing strategies to better meet the needs of our customers and increase sales.</font>"
   ]
  }
 ],
 "metadata": {
  "kernelspec": {
   "display_name": "Python 3 (ipykernel)",
   "language": "python",
   "name": "python3"
  },
  "language_info": {
   "codemirror_mode": {
    "name": "ipython",
    "version": 3
   },
   "file_extension": ".py",
   "mimetype": "text/x-python",
   "name": "python",
   "nbconvert_exporter": "python",
   "pygments_lexer": "ipython3",
   "version": "3.9.13"
  }
 },
 "nbformat": 4,
 "nbformat_minor": 5
}
